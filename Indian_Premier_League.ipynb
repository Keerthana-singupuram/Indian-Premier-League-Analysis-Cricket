{
  "nbformat": 4,
  "nbformat_minor": 0,
  "metadata": {
    "colab": {
      "provenance": [],
      "authorship_tag": "ABX9TyMhHsAGHZXr2L5TYVxmUTBZ",
      "include_colab_link": true
    },
    "kernelspec": {
      "name": "python3",
      "display_name": "Python 3"
    },
    "language_info": {
      "name": "python"
    }
  },
  "cells": [
    {
      "cell_type": "markdown",
      "metadata": {
        "id": "view-in-github",
        "colab_type": "text"
      },
      "source": [
        "<a href=\"https://colab.research.google.com/github/Keerthana-singupuram/Indian-Premier-League-Analysis-Cricket/blob/main/Indian_Premier_League.ipynb\" target=\"_parent\"><img src=\"https://colab.research.google.com/assets/colab-badge.svg\" alt=\"Open In Colab\"/></a>"
      ]
    },
    {
      "cell_type": "markdown",
      "source": [
        "# **The Sparks Foundation**\n",
        "![download.png](data:image/png;base64,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)\n",
        "## **Name** : Keerthana S\n",
        "## **Batch** : GRIP May'2023\n",
        "## **Project** : Indian Premier League - Exploratory Data Analysis."
      ],
      "metadata": {
        "id": "45jQYmbEgkeZ"
      }
    },
    {
      "cell_type": "markdown",
      "source": [
        "# **Indian Premier League**\n",
        "\n",
        "![download1.png](data:image/png;base64,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)\n",
        "\n",
        "\n",
        "\n",
        "\n",
        "This is an IPL Exploratory Data Analysis project that contains data in tow files namely, matches and deliveries.\n",
        "\n",
        "The shape of data is quite large with entires in matches file as 756 rows and 17 columns while the shape of delivery file is 179078 rows and 21 columns.\n",
        "\n",
        "## **Objective :**\n",
        "* As a Sports Analyst, to find out the most successful teams, players and the factors contributing to win or to loose the game. \n",
        "* Exploratory Data Analysis.\n",
        "* Handling missing values.\n",
        "* Summary statistics.\n",
        "* Graphical visualisations.\n",
        "* Basic Analysis like Teams with maximum matches, wins,etc\n",
        "* Batsman Analysis\n",
        "* Bowler Analysis\n",
        "* 200+ scores analysis\n",
        "* Key insights."
      ],
      "metadata": {
        "id": "kKc4k2tldwXQ"
      }
    },
    {
      "cell_type": "code",
      "execution_count": null,
      "metadata": {
        "id": "EgpGEY64HiSR"
      },
      "outputs": [],
      "source": [
        "import numpy as np\n",
        "import pandas as pd\n",
        "import matplotlib.pyplot as mlt\n",
        "import seaborn as sns\n",
        "mlt.style.use('fivethirtyeight')\n",
        "import plotly.offline as py\n",
        "py.init_notebook_mode(connected=True)\n",
        "import plotly.graph_objs as go\n",
        "import plotly.tools as tls\n",
        "from subprocess import check_output"
      ]
    },
    {
      "cell_type": "code",
      "source": [
        "matches=pd.read_csv('/content/matches.csv')   \n",
        "delivery=pd.read_csv('/content/deliveries.csv')"
      ],
      "metadata": {
        "id": "8iFPvEJsIo8U"
      },
      "execution_count": 15,
      "outputs": []
    },
    {
      "cell_type": "code",
      "source": [
        "matches.shape"
      ],
      "metadata": {
        "colab": {
          "base_uri": "https://localhost:8080/"
        },
        "id": "NYG-pp54e1Jv",
        "outputId": "db204831-517c-4fbe-cfff-fbaf8600b92d"
      },
      "execution_count": 118,
      "outputs": [
        {
          "output_type": "execute_result",
          "data": {
            "text/plain": [
              "(756, 17)"
            ]
          },
          "metadata": {},
          "execution_count": 118
        }
      ]
    },
    {
      "cell_type": "code",
      "source": [
        "matches.describe()"
      ],
      "metadata": {
        "colab": {
          "base_uri": "https://localhost:8080/",
          "height": 300
        },
        "id": "ok3jzU61fS4Y",
        "outputId": "397351ca-f968-4501-ae2c-fb98630ff981"
      },
      "execution_count": 125,
      "outputs": [
        {
          "output_type": "execute_result",
          "data": {
            "text/plain": [
              "                 id       season  dl_applied  win_by_runs  win_by_wickets\n",
              "count    756.000000   756.000000  756.000000   756.000000      756.000000\n",
              "mean    1792.178571  2013.444444    0.025132    13.283069        3.350529\n",
              "std     3464.478148     3.366895    0.156630    23.471144        3.387963\n",
              "min        1.000000  2008.000000    0.000000     0.000000        0.000000\n",
              "25%      189.750000  2011.000000    0.000000     0.000000        0.000000\n",
              "50%      378.500000  2013.000000    0.000000     0.000000        4.000000\n",
              "75%      567.250000  2016.000000    0.000000    19.000000        6.000000\n",
              "max    11415.000000  2019.000000    1.000000   146.000000       10.000000"
            ],
            "text/html": [
              "\n",
              "  <div id=\"df-6dff2d2f-4092-4a7e-abce-1eb394827fd4\">\n",
              "    <div class=\"colab-df-container\">\n",
              "      <div>\n",
              "<style scoped>\n",
              "    .dataframe tbody tr th:only-of-type {\n",
              "        vertical-align: middle;\n",
              "    }\n",
              "\n",
              "    .dataframe tbody tr th {\n",
              "        vertical-align: top;\n",
              "    }\n",
              "\n",
              "    .dataframe thead th {\n",
              "        text-align: right;\n",
              "    }\n",
              "</style>\n",
              "<table border=\"1\" class=\"dataframe\">\n",
              "  <thead>\n",
              "    <tr style=\"text-align: right;\">\n",
              "      <th></th>\n",
              "      <th>id</th>\n",
              "      <th>season</th>\n",
              "      <th>dl_applied</th>\n",
              "      <th>win_by_runs</th>\n",
              "      <th>win_by_wickets</th>\n",
              "    </tr>\n",
              "  </thead>\n",
              "  <tbody>\n",
              "    <tr>\n",
              "      <th>count</th>\n",
              "      <td>756.000000</td>\n",
              "      <td>756.000000</td>\n",
              "      <td>756.000000</td>\n",
              "      <td>756.000000</td>\n",
              "      <td>756.000000</td>\n",
              "    </tr>\n",
              "    <tr>\n",
              "      <th>mean</th>\n",
              "      <td>1792.178571</td>\n",
              "      <td>2013.444444</td>\n",
              "      <td>0.025132</td>\n",
              "      <td>13.283069</td>\n",
              "      <td>3.350529</td>\n",
              "    </tr>\n",
              "    <tr>\n",
              "      <th>std</th>\n",
              "      <td>3464.478148</td>\n",
              "      <td>3.366895</td>\n",
              "      <td>0.156630</td>\n",
              "      <td>23.471144</td>\n",
              "      <td>3.387963</td>\n",
              "    </tr>\n",
              "    <tr>\n",
              "      <th>min</th>\n",
              "      <td>1.000000</td>\n",
              "      <td>2008.000000</td>\n",
              "      <td>0.000000</td>\n",
              "      <td>0.000000</td>\n",
              "      <td>0.000000</td>\n",
              "    </tr>\n",
              "    <tr>\n",
              "      <th>25%</th>\n",
              "      <td>189.750000</td>\n",
              "      <td>2011.000000</td>\n",
              "      <td>0.000000</td>\n",
              "      <td>0.000000</td>\n",
              "      <td>0.000000</td>\n",
              "    </tr>\n",
              "    <tr>\n",
              "      <th>50%</th>\n",
              "      <td>378.500000</td>\n",
              "      <td>2013.000000</td>\n",
              "      <td>0.000000</td>\n",
              "      <td>0.000000</td>\n",
              "      <td>4.000000</td>\n",
              "    </tr>\n",
              "    <tr>\n",
              "      <th>75%</th>\n",
              "      <td>567.250000</td>\n",
              "      <td>2016.000000</td>\n",
              "      <td>0.000000</td>\n",
              "      <td>19.000000</td>\n",
              "      <td>6.000000</td>\n",
              "    </tr>\n",
              "    <tr>\n",
              "      <th>max</th>\n",
              "      <td>11415.000000</td>\n",
              "      <td>2019.000000</td>\n",
              "      <td>1.000000</td>\n",
              "      <td>146.000000</td>\n",
              "      <td>10.000000</td>\n",
              "    </tr>\n",
              "  </tbody>\n",
              "</table>\n",
              "</div>\n",
              "      <button class=\"colab-df-convert\" onclick=\"convertToInteractive('df-6dff2d2f-4092-4a7e-abce-1eb394827fd4')\"\n",
              "              title=\"Convert this dataframe to an interactive table.\"\n",
              "              style=\"display:none;\">\n",
              "        \n",
              "  <svg xmlns=\"http://www.w3.org/2000/svg\" height=\"24px\"viewBox=\"0 0 24 24\"\n",
              "       width=\"24px\">\n",
              "    <path d=\"M0 0h24v24H0V0z\" fill=\"none\"/>\n",
              "    <path d=\"M18.56 5.44l.94 2.06.94-2.06 2.06-.94-2.06-.94-.94-2.06-.94 2.06-2.06.94zm-11 1L8.5 8.5l.94-2.06 2.06-.94-2.06-.94L8.5 2.5l-.94 2.06-2.06.94zm10 10l.94 2.06.94-2.06 2.06-.94-2.06-.94-.94-2.06-.94 2.06-2.06.94z\"/><path d=\"M17.41 7.96l-1.37-1.37c-.4-.4-.92-.59-1.43-.59-.52 0-1.04.2-1.43.59L10.3 9.45l-7.72 7.72c-.78.78-.78 2.05 0 2.83L4 21.41c.39.39.9.59 1.41.59.51 0 1.02-.2 1.41-.59l7.78-7.78 2.81-2.81c.8-.78.8-2.07 0-2.86zM5.41 20L4 18.59l7.72-7.72 1.47 1.35L5.41 20z\"/>\n",
              "  </svg>\n",
              "      </button>\n",
              "      \n",
              "  <style>\n",
              "    .colab-df-container {\n",
              "      display:flex;\n",
              "      flex-wrap:wrap;\n",
              "      gap: 12px;\n",
              "    }\n",
              "\n",
              "    .colab-df-convert {\n",
              "      background-color: #E8F0FE;\n",
              "      border: none;\n",
              "      border-radius: 50%;\n",
              "      cursor: pointer;\n",
              "      display: none;\n",
              "      fill: #1967D2;\n",
              "      height: 32px;\n",
              "      padding: 0 0 0 0;\n",
              "      width: 32px;\n",
              "    }\n",
              "\n",
              "    .colab-df-convert:hover {\n",
              "      background-color: #E2EBFA;\n",
              "      box-shadow: 0px 1px 2px rgba(60, 64, 67, 0.3), 0px 1px 3px 1px rgba(60, 64, 67, 0.15);\n",
              "      fill: #174EA6;\n",
              "    }\n",
              "\n",
              "    [theme=dark] .colab-df-convert {\n",
              "      background-color: #3B4455;\n",
              "      fill: #D2E3FC;\n",
              "    }\n",
              "\n",
              "    [theme=dark] .colab-df-convert:hover {\n",
              "      background-color: #434B5C;\n",
              "      box-shadow: 0px 1px 3px 1px rgba(0, 0, 0, 0.15);\n",
              "      filter: drop-shadow(0px 1px 2px rgba(0, 0, 0, 0.3));\n",
              "      fill: #FFFFFF;\n",
              "    }\n",
              "  </style>\n",
              "\n",
              "      <script>\n",
              "        const buttonEl =\n",
              "          document.querySelector('#df-6dff2d2f-4092-4a7e-abce-1eb394827fd4 button.colab-df-convert');\n",
              "        buttonEl.style.display =\n",
              "          google.colab.kernel.accessAllowed ? 'block' : 'none';\n",
              "\n",
              "        async function convertToInteractive(key) {\n",
              "          const element = document.querySelector('#df-6dff2d2f-4092-4a7e-abce-1eb394827fd4');\n",
              "          const dataTable =\n",
              "            await google.colab.kernel.invokeFunction('convertToInteractive',\n",
              "                                                     [key], {});\n",
              "          if (!dataTable) return;\n",
              "\n",
              "          const docLinkHtml = 'Like what you see? Visit the ' +\n",
              "            '<a target=\"_blank\" href=https://colab.research.google.com/notebooks/data_table.ipynb>data table notebook</a>'\n",
              "            + ' to learn more about interactive tables.';\n",
              "          element.innerHTML = '';\n",
              "          dataTable['output_type'] = 'display_data';\n",
              "          await google.colab.output.renderOutput(dataTable, element);\n",
              "          const docLink = document.createElement('div');\n",
              "          docLink.innerHTML = docLinkHtml;\n",
              "          element.appendChild(docLink);\n",
              "        }\n",
              "      </script>\n",
              "    </div>\n",
              "  </div>\n",
              "  "
            ]
          },
          "metadata": {},
          "execution_count": 125
        }
      ]
    },
    {
      "cell_type": "code",
      "source": [
        "matches.head(3)"
      ],
      "metadata": {
        "colab": {
          "base_uri": "https://localhost:8080/",
          "height": 381
        },
        "id": "11rOVpDaJ2p9",
        "outputId": "512b331a-faba-47d4-a1fd-898f3193317e"
      },
      "execution_count": 16,
      "outputs": [
        {
          "output_type": "execute_result",
          "data": {
            "text/plain": [
              "   id  season       city        date                team1  \\\n",
              "0   1    2017  Hyderabad  2017-04-05  Sunrisers Hyderabad   \n",
              "1   2    2017       Pune  2017-04-06       Mumbai Indians   \n",
              "2   3    2017     Rajkot  2017-04-07        Gujarat Lions   \n",
              "\n",
              "                         team2                  toss_winner toss_decision  \\\n",
              "0  Royal Challengers Bangalore  Royal Challengers Bangalore         field   \n",
              "1       Rising Pune Supergiant       Rising Pune Supergiant         field   \n",
              "2        Kolkata Knight Riders        Kolkata Knight Riders         field   \n",
              "\n",
              "   result  dl_applied                  winner  win_by_runs  win_by_wickets  \\\n",
              "0  normal           0     Sunrisers Hyderabad           35               0   \n",
              "1  normal           0  Rising Pune Supergiant            0               7   \n",
              "2  normal           0   Kolkata Knight Riders            0              10   \n",
              "\n",
              "  player_of_match                                      venue         umpire1  \\\n",
              "0    Yuvraj Singh  Rajiv Gandhi International Stadium, Uppal     AY Dandekar   \n",
              "1       SPD Smith    Maharashtra Cricket Association Stadium  A Nand Kishore   \n",
              "2         CA Lynn     Saurashtra Cricket Association Stadium     Nitin Menon   \n",
              "\n",
              "     umpire2 umpire3  \n",
              "0   NJ Llong     NaN  \n",
              "1     S Ravi     NaN  \n",
              "2  CK Nandan     NaN  "
            ],
            "text/html": [
              "\n",
              "  <div id=\"df-2c22bbc7-152c-4111-b8a1-53ecc291a3d1\">\n",
              "    <div class=\"colab-df-container\">\n",
              "      <div>\n",
              "<style scoped>\n",
              "    .dataframe tbody tr th:only-of-type {\n",
              "        vertical-align: middle;\n",
              "    }\n",
              "\n",
              "    .dataframe tbody tr th {\n",
              "        vertical-align: top;\n",
              "    }\n",
              "\n",
              "    .dataframe thead th {\n",
              "        text-align: right;\n",
              "    }\n",
              "</style>\n",
              "<table border=\"1\" class=\"dataframe\">\n",
              "  <thead>\n",
              "    <tr style=\"text-align: right;\">\n",
              "      <th></th>\n",
              "      <th>id</th>\n",
              "      <th>season</th>\n",
              "      <th>city</th>\n",
              "      <th>date</th>\n",
              "      <th>team1</th>\n",
              "      <th>team2</th>\n",
              "      <th>toss_winner</th>\n",
              "      <th>toss_decision</th>\n",
              "      <th>result</th>\n",
              "      <th>dl_applied</th>\n",
              "      <th>winner</th>\n",
              "      <th>win_by_runs</th>\n",
              "      <th>win_by_wickets</th>\n",
              "      <th>player_of_match</th>\n",
              "      <th>venue</th>\n",
              "      <th>umpire1</th>\n",
              "      <th>umpire2</th>\n",
              "      <th>umpire3</th>\n",
              "    </tr>\n",
              "  </thead>\n",
              "  <tbody>\n",
              "    <tr>\n",
              "      <th>0</th>\n",
              "      <td>1</td>\n",
              "      <td>2017</td>\n",
              "      <td>Hyderabad</td>\n",
              "      <td>2017-04-05</td>\n",
              "      <td>Sunrisers Hyderabad</td>\n",
              "      <td>Royal Challengers Bangalore</td>\n",
              "      <td>Royal Challengers Bangalore</td>\n",
              "      <td>field</td>\n",
              "      <td>normal</td>\n",
              "      <td>0</td>\n",
              "      <td>Sunrisers Hyderabad</td>\n",
              "      <td>35</td>\n",
              "      <td>0</td>\n",
              "      <td>Yuvraj Singh</td>\n",
              "      <td>Rajiv Gandhi International Stadium, Uppal</td>\n",
              "      <td>AY Dandekar</td>\n",
              "      <td>NJ Llong</td>\n",
              "      <td>NaN</td>\n",
              "    </tr>\n",
              "    <tr>\n",
              "      <th>1</th>\n",
              "      <td>2</td>\n",
              "      <td>2017</td>\n",
              "      <td>Pune</td>\n",
              "      <td>2017-04-06</td>\n",
              "      <td>Mumbai Indians</td>\n",
              "      <td>Rising Pune Supergiant</td>\n",
              "      <td>Rising Pune Supergiant</td>\n",
              "      <td>field</td>\n",
              "      <td>normal</td>\n",
              "      <td>0</td>\n",
              "      <td>Rising Pune Supergiant</td>\n",
              "      <td>0</td>\n",
              "      <td>7</td>\n",
              "      <td>SPD Smith</td>\n",
              "      <td>Maharashtra Cricket Association Stadium</td>\n",
              "      <td>A Nand Kishore</td>\n",
              "      <td>S Ravi</td>\n",
              "      <td>NaN</td>\n",
              "    </tr>\n",
              "    <tr>\n",
              "      <th>2</th>\n",
              "      <td>3</td>\n",
              "      <td>2017</td>\n",
              "      <td>Rajkot</td>\n",
              "      <td>2017-04-07</td>\n",
              "      <td>Gujarat Lions</td>\n",
              "      <td>Kolkata Knight Riders</td>\n",
              "      <td>Kolkata Knight Riders</td>\n",
              "      <td>field</td>\n",
              "      <td>normal</td>\n",
              "      <td>0</td>\n",
              "      <td>Kolkata Knight Riders</td>\n",
              "      <td>0</td>\n",
              "      <td>10</td>\n",
              "      <td>CA Lynn</td>\n",
              "      <td>Saurashtra Cricket Association Stadium</td>\n",
              "      <td>Nitin Menon</td>\n",
              "      <td>CK Nandan</td>\n",
              "      <td>NaN</td>\n",
              "    </tr>\n",
              "  </tbody>\n",
              "</table>\n",
              "</div>\n",
              "      <button class=\"colab-df-convert\" onclick=\"convertToInteractive('df-2c22bbc7-152c-4111-b8a1-53ecc291a3d1')\"\n",
              "              title=\"Convert this dataframe to an interactive table.\"\n",
              "              style=\"display:none;\">\n",
              "        \n",
              "  <svg xmlns=\"http://www.w3.org/2000/svg\" height=\"24px\"viewBox=\"0 0 24 24\"\n",
              "       width=\"24px\">\n",
              "    <path d=\"M0 0h24v24H0V0z\" fill=\"none\"/>\n",
              "    <path d=\"M18.56 5.44l.94 2.06.94-2.06 2.06-.94-2.06-.94-.94-2.06-.94 2.06-2.06.94zm-11 1L8.5 8.5l.94-2.06 2.06-.94-2.06-.94L8.5 2.5l-.94 2.06-2.06.94zm10 10l.94 2.06.94-2.06 2.06-.94-2.06-.94-.94-2.06-.94 2.06-2.06.94z\"/><path d=\"M17.41 7.96l-1.37-1.37c-.4-.4-.92-.59-1.43-.59-.52 0-1.04.2-1.43.59L10.3 9.45l-7.72 7.72c-.78.78-.78 2.05 0 2.83L4 21.41c.39.39.9.59 1.41.59.51 0 1.02-.2 1.41-.59l7.78-7.78 2.81-2.81c.8-.78.8-2.07 0-2.86zM5.41 20L4 18.59l7.72-7.72 1.47 1.35L5.41 20z\"/>\n",
              "  </svg>\n",
              "      </button>\n",
              "      \n",
              "  <style>\n",
              "    .colab-df-container {\n",
              "      display:flex;\n",
              "      flex-wrap:wrap;\n",
              "      gap: 12px;\n",
              "    }\n",
              "\n",
              "    .colab-df-convert {\n",
              "      background-color: #E8F0FE;\n",
              "      border: none;\n",
              "      border-radius: 50%;\n",
              "      cursor: pointer;\n",
              "      display: none;\n",
              "      fill: #1967D2;\n",
              "      height: 32px;\n",
              "      padding: 0 0 0 0;\n",
              "      width: 32px;\n",
              "    }\n",
              "\n",
              "    .colab-df-convert:hover {\n",
              "      background-color: #E2EBFA;\n",
              "      box-shadow: 0px 1px 2px rgba(60, 64, 67, 0.3), 0px 1px 3px 1px rgba(60, 64, 67, 0.15);\n",
              "      fill: #174EA6;\n",
              "    }\n",
              "\n",
              "    [theme=dark] .colab-df-convert {\n",
              "      background-color: #3B4455;\n",
              "      fill: #D2E3FC;\n",
              "    }\n",
              "\n",
              "    [theme=dark] .colab-df-convert:hover {\n",
              "      background-color: #434B5C;\n",
              "      box-shadow: 0px 1px 3px 1px rgba(0, 0, 0, 0.15);\n",
              "      filter: drop-shadow(0px 1px 2px rgba(0, 0, 0, 0.3));\n",
              "      fill: #FFFFFF;\n",
              "    }\n",
              "  </style>\n",
              "\n",
              "      <script>\n",
              "        const buttonEl =\n",
              "          document.querySelector('#df-2c22bbc7-152c-4111-b8a1-53ecc291a3d1 button.colab-df-convert');\n",
              "        buttonEl.style.display =\n",
              "          google.colab.kernel.accessAllowed ? 'block' : 'none';\n",
              "\n",
              "        async function convertToInteractive(key) {\n",
              "          const element = document.querySelector('#df-2c22bbc7-152c-4111-b8a1-53ecc291a3d1');\n",
              "          const dataTable =\n",
              "            await google.colab.kernel.invokeFunction('convertToInteractive',\n",
              "                                                     [key], {});\n",
              "          if (!dataTable) return;\n",
              "\n",
              "          const docLinkHtml = 'Like what you see? Visit the ' +\n",
              "            '<a target=\"_blank\" href=https://colab.research.google.com/notebooks/data_table.ipynb>data table notebook</a>'\n",
              "            + ' to learn more about interactive tables.';\n",
              "          element.innerHTML = '';\n",
              "          dataTable['output_type'] = 'display_data';\n",
              "          await google.colab.output.renderOutput(dataTable, element);\n",
              "          const docLink = document.createElement('div');\n",
              "          docLink.innerHTML = docLinkHtml;\n",
              "          element.appendChild(docLink);\n",
              "        }\n",
              "      </script>\n",
              "    </div>\n",
              "  </div>\n",
              "  "
            ]
          },
          "metadata": {},
          "execution_count": 16
        }
      ]
    },
    {
      "cell_type": "code",
      "source": [
        "delivery.shape"
      ],
      "metadata": {
        "colab": {
          "base_uri": "https://localhost:8080/"
        },
        "id": "aYWC3RKwe9tL",
        "outputId": "424d149b-dc02-44d0-bcd2-13b79d1f9eab"
      },
      "execution_count": 123,
      "outputs": [
        {
          "output_type": "execute_result",
          "data": {
            "text/plain": [
              "(179078, 21)"
            ]
          },
          "metadata": {},
          "execution_count": 123
        }
      ]
    },
    {
      "cell_type": "code",
      "source": [
        "delivery.describe()"
      ],
      "metadata": {
        "colab": {
          "base_uri": "https://localhost:8080/",
          "height": 364
        },
        "id": "KPMD9yosfM2q",
        "outputId": "9b9c4051-26cd-45d5-9bbb-d7a2d73b8f96"
      },
      "execution_count": 124,
      "outputs": [
        {
          "output_type": "execute_result",
          "data": {
            "text/plain": [
              "            match_id         inning           over           ball  \\\n",
              "count  179078.000000  179078.000000  179078.000000  179078.000000   \n",
              "mean     1802.252957       1.482952      10.162488       3.615587   \n",
              "std      3472.322805       0.502074       5.677684       1.806966   \n",
              "min         1.000000       1.000000       1.000000       1.000000   \n",
              "25%       190.000000       1.000000       5.000000       2.000000   \n",
              "50%       379.000000       1.000000      10.000000       4.000000   \n",
              "75%       567.000000       2.000000      15.000000       5.000000   \n",
              "max     11415.000000       5.000000      20.000000       9.000000   \n",
              "\n",
              "       is_super_over      wide_runs       bye_runs    legbye_runs  \\\n",
              "count  179078.000000  179078.000000  179078.000000  179078.000000   \n",
              "mean        0.000452       0.036721       0.004936       0.021136   \n",
              "std         0.021263       0.251161       0.116480       0.194908   \n",
              "min         0.000000       0.000000       0.000000       0.000000   \n",
              "25%         0.000000       0.000000       0.000000       0.000000   \n",
              "50%         0.000000       0.000000       0.000000       0.000000   \n",
              "75%         0.000000       0.000000       0.000000       0.000000   \n",
              "max         1.000000       5.000000       4.000000       5.000000   \n",
              "\n",
              "         noball_runs   penalty_runs   batsman_runs     extra_runs  \\\n",
              "count  179078.000000  179078.000000  179078.000000  179078.000000   \n",
              "mean        0.004183       0.000056       1.246864       0.067032   \n",
              "std         0.070492       0.016709       1.608270       0.342553   \n",
              "min         0.000000       0.000000       0.000000       0.000000   \n",
              "25%         0.000000       0.000000       0.000000       0.000000   \n",
              "50%         0.000000       0.000000       1.000000       0.000000   \n",
              "75%         0.000000       0.000000       1.000000       0.000000   \n",
              "max         5.000000       5.000000       7.000000       7.000000   \n",
              "\n",
              "          total_runs  \n",
              "count  179078.000000  \n",
              "mean        1.313897  \n",
              "std         1.605422  \n",
              "min         0.000000  \n",
              "25%         0.000000  \n",
              "50%         1.000000  \n",
              "75%         1.000000  \n",
              "max        10.000000  "
            ],
            "text/html": [
              "\n",
              "  <div id=\"df-647d9135-918d-47f3-844d-26c29a4f63ca\">\n",
              "    <div class=\"colab-df-container\">\n",
              "      <div>\n",
              "<style scoped>\n",
              "    .dataframe tbody tr th:only-of-type {\n",
              "        vertical-align: middle;\n",
              "    }\n",
              "\n",
              "    .dataframe tbody tr th {\n",
              "        vertical-align: top;\n",
              "    }\n",
              "\n",
              "    .dataframe thead th {\n",
              "        text-align: right;\n",
              "    }\n",
              "</style>\n",
              "<table border=\"1\" class=\"dataframe\">\n",
              "  <thead>\n",
              "    <tr style=\"text-align: right;\">\n",
              "      <th></th>\n",
              "      <th>match_id</th>\n",
              "      <th>inning</th>\n",
              "      <th>over</th>\n",
              "      <th>ball</th>\n",
              "      <th>is_super_over</th>\n",
              "      <th>wide_runs</th>\n",
              "      <th>bye_runs</th>\n",
              "      <th>legbye_runs</th>\n",
              "      <th>noball_runs</th>\n",
              "      <th>penalty_runs</th>\n",
              "      <th>batsman_runs</th>\n",
              "      <th>extra_runs</th>\n",
              "      <th>total_runs</th>\n",
              "    </tr>\n",
              "  </thead>\n",
              "  <tbody>\n",
              "    <tr>\n",
              "      <th>count</th>\n",
              "      <td>179078.000000</td>\n",
              "      <td>179078.000000</td>\n",
              "      <td>179078.000000</td>\n",
              "      <td>179078.000000</td>\n",
              "      <td>179078.000000</td>\n",
              "      <td>179078.000000</td>\n",
              "      <td>179078.000000</td>\n",
              "      <td>179078.000000</td>\n",
              "      <td>179078.000000</td>\n",
              "      <td>179078.000000</td>\n",
              "      <td>179078.000000</td>\n",
              "      <td>179078.000000</td>\n",
              "      <td>179078.000000</td>\n",
              "    </tr>\n",
              "    <tr>\n",
              "      <th>mean</th>\n",
              "      <td>1802.252957</td>\n",
              "      <td>1.482952</td>\n",
              "      <td>10.162488</td>\n",
              "      <td>3.615587</td>\n",
              "      <td>0.000452</td>\n",
              "      <td>0.036721</td>\n",
              "      <td>0.004936</td>\n",
              "      <td>0.021136</td>\n",
              "      <td>0.004183</td>\n",
              "      <td>0.000056</td>\n",
              "      <td>1.246864</td>\n",
              "      <td>0.067032</td>\n",
              "      <td>1.313897</td>\n",
              "    </tr>\n",
              "    <tr>\n",
              "      <th>std</th>\n",
              "      <td>3472.322805</td>\n",
              "      <td>0.502074</td>\n",
              "      <td>5.677684</td>\n",
              "      <td>1.806966</td>\n",
              "      <td>0.021263</td>\n",
              "      <td>0.251161</td>\n",
              "      <td>0.116480</td>\n",
              "      <td>0.194908</td>\n",
              "      <td>0.070492</td>\n",
              "      <td>0.016709</td>\n",
              "      <td>1.608270</td>\n",
              "      <td>0.342553</td>\n",
              "      <td>1.605422</td>\n",
              "    </tr>\n",
              "    <tr>\n",
              "      <th>min</th>\n",
              "      <td>1.000000</td>\n",
              "      <td>1.000000</td>\n",
              "      <td>1.000000</td>\n",
              "      <td>1.000000</td>\n",
              "      <td>0.000000</td>\n",
              "      <td>0.000000</td>\n",
              "      <td>0.000000</td>\n",
              "      <td>0.000000</td>\n",
              "      <td>0.000000</td>\n",
              "      <td>0.000000</td>\n",
              "      <td>0.000000</td>\n",
              "      <td>0.000000</td>\n",
              "      <td>0.000000</td>\n",
              "    </tr>\n",
              "    <tr>\n",
              "      <th>25%</th>\n",
              "      <td>190.000000</td>\n",
              "      <td>1.000000</td>\n",
              "      <td>5.000000</td>\n",
              "      <td>2.000000</td>\n",
              "      <td>0.000000</td>\n",
              "      <td>0.000000</td>\n",
              "      <td>0.000000</td>\n",
              "      <td>0.000000</td>\n",
              "      <td>0.000000</td>\n",
              "      <td>0.000000</td>\n",
              "      <td>0.000000</td>\n",
              "      <td>0.000000</td>\n",
              "      <td>0.000000</td>\n",
              "    </tr>\n",
              "    <tr>\n",
              "      <th>50%</th>\n",
              "      <td>379.000000</td>\n",
              "      <td>1.000000</td>\n",
              "      <td>10.000000</td>\n",
              "      <td>4.000000</td>\n",
              "      <td>0.000000</td>\n",
              "      <td>0.000000</td>\n",
              "      <td>0.000000</td>\n",
              "      <td>0.000000</td>\n",
              "      <td>0.000000</td>\n",
              "      <td>0.000000</td>\n",
              "      <td>1.000000</td>\n",
              "      <td>0.000000</td>\n",
              "      <td>1.000000</td>\n",
              "    </tr>\n",
              "    <tr>\n",
              "      <th>75%</th>\n",
              "      <td>567.000000</td>\n",
              "      <td>2.000000</td>\n",
              "      <td>15.000000</td>\n",
              "      <td>5.000000</td>\n",
              "      <td>0.000000</td>\n",
              "      <td>0.000000</td>\n",
              "      <td>0.000000</td>\n",
              "      <td>0.000000</td>\n",
              "      <td>0.000000</td>\n",
              "      <td>0.000000</td>\n",
              "      <td>1.000000</td>\n",
              "      <td>0.000000</td>\n",
              "      <td>1.000000</td>\n",
              "    </tr>\n",
              "    <tr>\n",
              "      <th>max</th>\n",
              "      <td>11415.000000</td>\n",
              "      <td>5.000000</td>\n",
              "      <td>20.000000</td>\n",
              "      <td>9.000000</td>\n",
              "      <td>1.000000</td>\n",
              "      <td>5.000000</td>\n",
              "      <td>4.000000</td>\n",
              "      <td>5.000000</td>\n",
              "      <td>5.000000</td>\n",
              "      <td>5.000000</td>\n",
              "      <td>7.000000</td>\n",
              "      <td>7.000000</td>\n",
              "      <td>10.000000</td>\n",
              "    </tr>\n",
              "  </tbody>\n",
              "</table>\n",
              "</div>\n",
              "      <button class=\"colab-df-convert\" onclick=\"convertToInteractive('df-647d9135-918d-47f3-844d-26c29a4f63ca')\"\n",
              "              title=\"Convert this dataframe to an interactive table.\"\n",
              "              style=\"display:none;\">\n",
              "        \n",
              "  <svg xmlns=\"http://www.w3.org/2000/svg\" height=\"24px\"viewBox=\"0 0 24 24\"\n",
              "       width=\"24px\">\n",
              "    <path d=\"M0 0h24v24H0V0z\" fill=\"none\"/>\n",
              "    <path d=\"M18.56 5.44l.94 2.06.94-2.06 2.06-.94-2.06-.94-.94-2.06-.94 2.06-2.06.94zm-11 1L8.5 8.5l.94-2.06 2.06-.94-2.06-.94L8.5 2.5l-.94 2.06-2.06.94zm10 10l.94 2.06.94-2.06 2.06-.94-2.06-.94-.94-2.06-.94 2.06-2.06.94z\"/><path d=\"M17.41 7.96l-1.37-1.37c-.4-.4-.92-.59-1.43-.59-.52 0-1.04.2-1.43.59L10.3 9.45l-7.72 7.72c-.78.78-.78 2.05 0 2.83L4 21.41c.39.39.9.59 1.41.59.51 0 1.02-.2 1.41-.59l7.78-7.78 2.81-2.81c.8-.78.8-2.07 0-2.86zM5.41 20L4 18.59l7.72-7.72 1.47 1.35L5.41 20z\"/>\n",
              "  </svg>\n",
              "      </button>\n",
              "      \n",
              "  <style>\n",
              "    .colab-df-container {\n",
              "      display:flex;\n",
              "      flex-wrap:wrap;\n",
              "      gap: 12px;\n",
              "    }\n",
              "\n",
              "    .colab-df-convert {\n",
              "      background-color: #E8F0FE;\n",
              "      border: none;\n",
              "      border-radius: 50%;\n",
              "      cursor: pointer;\n",
              "      display: none;\n",
              "      fill: #1967D2;\n",
              "      height: 32px;\n",
              "      padding: 0 0 0 0;\n",
              "      width: 32px;\n",
              "    }\n",
              "\n",
              "    .colab-df-convert:hover {\n",
              "      background-color: #E2EBFA;\n",
              "      box-shadow: 0px 1px 2px rgba(60, 64, 67, 0.3), 0px 1px 3px 1px rgba(60, 64, 67, 0.15);\n",
              "      fill: #174EA6;\n",
              "    }\n",
              "\n",
              "    [theme=dark] .colab-df-convert {\n",
              "      background-color: #3B4455;\n",
              "      fill: #D2E3FC;\n",
              "    }\n",
              "\n",
              "    [theme=dark] .colab-df-convert:hover {\n",
              "      background-color: #434B5C;\n",
              "      box-shadow: 0px 1px 3px 1px rgba(0, 0, 0, 0.15);\n",
              "      filter: drop-shadow(0px 1px 2px rgba(0, 0, 0, 0.3));\n",
              "      fill: #FFFFFF;\n",
              "    }\n",
              "  </style>\n",
              "\n",
              "      <script>\n",
              "        const buttonEl =\n",
              "          document.querySelector('#df-647d9135-918d-47f3-844d-26c29a4f63ca button.colab-df-convert');\n",
              "        buttonEl.style.display =\n",
              "          google.colab.kernel.accessAllowed ? 'block' : 'none';\n",
              "\n",
              "        async function convertToInteractive(key) {\n",
              "          const element = document.querySelector('#df-647d9135-918d-47f3-844d-26c29a4f63ca');\n",
              "          const dataTable =\n",
              "            await google.colab.kernel.invokeFunction('convertToInteractive',\n",
              "                                                     [key], {});\n",
              "          if (!dataTable) return;\n",
              "\n",
              "          const docLinkHtml = 'Like what you see? Visit the ' +\n",
              "            '<a target=\"_blank\" href=https://colab.research.google.com/notebooks/data_table.ipynb>data table notebook</a>'\n",
              "            + ' to learn more about interactive tables.';\n",
              "          element.innerHTML = '';\n",
              "          dataTable['output_type'] = 'display_data';\n",
              "          await google.colab.output.renderOutput(dataTable, element);\n",
              "          const docLink = document.createElement('div');\n",
              "          docLink.innerHTML = docLinkHtml;\n",
              "          element.appendChild(docLink);\n",
              "        }\n",
              "      </script>\n",
              "    </div>\n",
              "  </div>\n",
              "  "
            ]
          },
          "metadata": {},
          "execution_count": 124
        }
      ]
    },
    {
      "cell_type": "code",
      "source": [
        "delivery.head(3)"
      ],
      "metadata": {
        "colab": {
          "base_uri": "https://localhost:8080/",
          "height": 341
        },
        "id": "8Agjj9e0J5qS",
        "outputId": "e8d31635-fcde-430b-fb8b-2e939e5bb6c1"
      },
      "execution_count": 17,
      "outputs": [
        {
          "output_type": "execute_result",
          "data": {
            "text/plain": [
              "   match_id  inning         batting_team                 bowling_team  over  \\\n",
              "0         1       1  Sunrisers Hyderabad  Royal Challengers Bangalore     1   \n",
              "1         1       1  Sunrisers Hyderabad  Royal Challengers Bangalore     1   \n",
              "2         1       1  Sunrisers Hyderabad  Royal Challengers Bangalore     1   \n",
              "\n",
              "   ball    batsman non_striker    bowler  is_super_over  ...  bye_runs  \\\n",
              "0     1  DA Warner    S Dhawan  TS Mills              0  ...         0   \n",
              "1     2  DA Warner    S Dhawan  TS Mills              0  ...         0   \n",
              "2     3  DA Warner    S Dhawan  TS Mills              0  ...         0   \n",
              "\n",
              "   legbye_runs  noball_runs  penalty_runs  batsman_runs  extra_runs  \\\n",
              "0            0            0             0             0           0   \n",
              "1            0            0             0             0           0   \n",
              "2            0            0             0             4           0   \n",
              "\n",
              "   total_runs  player_dismissed dismissal_kind fielder  \n",
              "0           0               NaN            NaN     NaN  \n",
              "1           0               NaN            NaN     NaN  \n",
              "2           4               NaN            NaN     NaN  \n",
              "\n",
              "[3 rows x 21 columns]"
            ],
            "text/html": [
              "\n",
              "  <div id=\"df-dc03fb00-6dba-4d93-97d8-40a712eacb0d\">\n",
              "    <div class=\"colab-df-container\">\n",
              "      <div>\n",
              "<style scoped>\n",
              "    .dataframe tbody tr th:only-of-type {\n",
              "        vertical-align: middle;\n",
              "    }\n",
              "\n",
              "    .dataframe tbody tr th {\n",
              "        vertical-align: top;\n",
              "    }\n",
              "\n",
              "    .dataframe thead th {\n",
              "        text-align: right;\n",
              "    }\n",
              "</style>\n",
              "<table border=\"1\" class=\"dataframe\">\n",
              "  <thead>\n",
              "    <tr style=\"text-align: right;\">\n",
              "      <th></th>\n",
              "      <th>match_id</th>\n",
              "      <th>inning</th>\n",
              "      <th>batting_team</th>\n",
              "      <th>bowling_team</th>\n",
              "      <th>over</th>\n",
              "      <th>ball</th>\n",
              "      <th>batsman</th>\n",
              "      <th>non_striker</th>\n",
              "      <th>bowler</th>\n",
              "      <th>is_super_over</th>\n",
              "      <th>...</th>\n",
              "      <th>bye_runs</th>\n",
              "      <th>legbye_runs</th>\n",
              "      <th>noball_runs</th>\n",
              "      <th>penalty_runs</th>\n",
              "      <th>batsman_runs</th>\n",
              "      <th>extra_runs</th>\n",
              "      <th>total_runs</th>\n",
              "      <th>player_dismissed</th>\n",
              "      <th>dismissal_kind</th>\n",
              "      <th>fielder</th>\n",
              "    </tr>\n",
              "  </thead>\n",
              "  <tbody>\n",
              "    <tr>\n",
              "      <th>0</th>\n",
              "      <td>1</td>\n",
              "      <td>1</td>\n",
              "      <td>Sunrisers Hyderabad</td>\n",
              "      <td>Royal Challengers Bangalore</td>\n",
              "      <td>1</td>\n",
              "      <td>1</td>\n",
              "      <td>DA Warner</td>\n",
              "      <td>S Dhawan</td>\n",
              "      <td>TS Mills</td>\n",
              "      <td>0</td>\n",
              "      <td>...</td>\n",
              "      <td>0</td>\n",
              "      <td>0</td>\n",
              "      <td>0</td>\n",
              "      <td>0</td>\n",
              "      <td>0</td>\n",
              "      <td>0</td>\n",
              "      <td>0</td>\n",
              "      <td>NaN</td>\n",
              "      <td>NaN</td>\n",
              "      <td>NaN</td>\n",
              "    </tr>\n",
              "    <tr>\n",
              "      <th>1</th>\n",
              "      <td>1</td>\n",
              "      <td>1</td>\n",
              "      <td>Sunrisers Hyderabad</td>\n",
              "      <td>Royal Challengers Bangalore</td>\n",
              "      <td>1</td>\n",
              "      <td>2</td>\n",
              "      <td>DA Warner</td>\n",
              "      <td>S Dhawan</td>\n",
              "      <td>TS Mills</td>\n",
              "      <td>0</td>\n",
              "      <td>...</td>\n",
              "      <td>0</td>\n",
              "      <td>0</td>\n",
              "      <td>0</td>\n",
              "      <td>0</td>\n",
              "      <td>0</td>\n",
              "      <td>0</td>\n",
              "      <td>0</td>\n",
              "      <td>NaN</td>\n",
              "      <td>NaN</td>\n",
              "      <td>NaN</td>\n",
              "    </tr>\n",
              "    <tr>\n",
              "      <th>2</th>\n",
              "      <td>1</td>\n",
              "      <td>1</td>\n",
              "      <td>Sunrisers Hyderabad</td>\n",
              "      <td>Royal Challengers Bangalore</td>\n",
              "      <td>1</td>\n",
              "      <td>3</td>\n",
              "      <td>DA Warner</td>\n",
              "      <td>S Dhawan</td>\n",
              "      <td>TS Mills</td>\n",
              "      <td>0</td>\n",
              "      <td>...</td>\n",
              "      <td>0</td>\n",
              "      <td>0</td>\n",
              "      <td>0</td>\n",
              "      <td>0</td>\n",
              "      <td>4</td>\n",
              "      <td>0</td>\n",
              "      <td>4</td>\n",
              "      <td>NaN</td>\n",
              "      <td>NaN</td>\n",
              "      <td>NaN</td>\n",
              "    </tr>\n",
              "  </tbody>\n",
              "</table>\n",
              "<p>3 rows × 21 columns</p>\n",
              "</div>\n",
              "      <button class=\"colab-df-convert\" onclick=\"convertToInteractive('df-dc03fb00-6dba-4d93-97d8-40a712eacb0d')\"\n",
              "              title=\"Convert this dataframe to an interactive table.\"\n",
              "              style=\"display:none;\">\n",
              "        \n",
              "  <svg xmlns=\"http://www.w3.org/2000/svg\" height=\"24px\"viewBox=\"0 0 24 24\"\n",
              "       width=\"24px\">\n",
              "    <path d=\"M0 0h24v24H0V0z\" fill=\"none\"/>\n",
              "    <path d=\"M18.56 5.44l.94 2.06.94-2.06 2.06-.94-2.06-.94-.94-2.06-.94 2.06-2.06.94zm-11 1L8.5 8.5l.94-2.06 2.06-.94-2.06-.94L8.5 2.5l-.94 2.06-2.06.94zm10 10l.94 2.06.94-2.06 2.06-.94-2.06-.94-.94-2.06-.94 2.06-2.06.94z\"/><path d=\"M17.41 7.96l-1.37-1.37c-.4-.4-.92-.59-1.43-.59-.52 0-1.04.2-1.43.59L10.3 9.45l-7.72 7.72c-.78.78-.78 2.05 0 2.83L4 21.41c.39.39.9.59 1.41.59.51 0 1.02-.2 1.41-.59l7.78-7.78 2.81-2.81c.8-.78.8-2.07 0-2.86zM5.41 20L4 18.59l7.72-7.72 1.47 1.35L5.41 20z\"/>\n",
              "  </svg>\n",
              "      </button>\n",
              "      \n",
              "  <style>\n",
              "    .colab-df-container {\n",
              "      display:flex;\n",
              "      flex-wrap:wrap;\n",
              "      gap: 12px;\n",
              "    }\n",
              "\n",
              "    .colab-df-convert {\n",
              "      background-color: #E8F0FE;\n",
              "      border: none;\n",
              "      border-radius: 50%;\n",
              "      cursor: pointer;\n",
              "      display: none;\n",
              "      fill: #1967D2;\n",
              "      height: 32px;\n",
              "      padding: 0 0 0 0;\n",
              "      width: 32px;\n",
              "    }\n",
              "\n",
              "    .colab-df-convert:hover {\n",
              "      background-color: #E2EBFA;\n",
              "      box-shadow: 0px 1px 2px rgba(60, 64, 67, 0.3), 0px 1px 3px 1px rgba(60, 64, 67, 0.15);\n",
              "      fill: #174EA6;\n",
              "    }\n",
              "\n",
              "    [theme=dark] .colab-df-convert {\n",
              "      background-color: #3B4455;\n",
              "      fill: #D2E3FC;\n",
              "    }\n",
              "\n",
              "    [theme=dark] .colab-df-convert:hover {\n",
              "      background-color: #434B5C;\n",
              "      box-shadow: 0px 1px 3px 1px rgba(0, 0, 0, 0.15);\n",
              "      filter: drop-shadow(0px 1px 2px rgba(0, 0, 0, 0.3));\n",
              "      fill: #FFFFFF;\n",
              "    }\n",
              "  </style>\n",
              "\n",
              "      <script>\n",
              "        const buttonEl =\n",
              "          document.querySelector('#df-dc03fb00-6dba-4d93-97d8-40a712eacb0d button.colab-df-convert');\n",
              "        buttonEl.style.display =\n",
              "          google.colab.kernel.accessAllowed ? 'block' : 'none';\n",
              "\n",
              "        async function convertToInteractive(key) {\n",
              "          const element = document.querySelector('#df-dc03fb00-6dba-4d93-97d8-40a712eacb0d');\n",
              "          const dataTable =\n",
              "            await google.colab.kernel.invokeFunction('convertToInteractive',\n",
              "                                                     [key], {});\n",
              "          if (!dataTable) return;\n",
              "\n",
              "          const docLinkHtml = 'Like what you see? Visit the ' +\n",
              "            '<a target=\"_blank\" href=https://colab.research.google.com/notebooks/data_table.ipynb>data table notebook</a>'\n",
              "            + ' to learn more about interactive tables.';\n",
              "          element.innerHTML = '';\n",
              "          dataTable['output_type'] = 'display_data';\n",
              "          await google.colab.output.renderOutput(dataTable, element);\n",
              "          const docLink = document.createElement('div');\n",
              "          docLink.innerHTML = docLinkHtml;\n",
              "          element.appendChild(docLink);\n",
              "        }\n",
              "      </script>\n",
              "    </div>\n",
              "  </div>\n",
              "  "
            ]
          },
          "metadata": {},
          "execution_count": 17
        }
      ]
    },
    {
      "cell_type": "code",
      "source": [
        "delivery.isnull().sum()"
      ],
      "metadata": {
        "colab": {
          "base_uri": "https://localhost:8080/"
        },
        "id": "f9f1SI7EJBJL",
        "outputId": "ccb4c61e-b5fe-476f-bd7d-9ce564885d45"
      },
      "execution_count": 18,
      "outputs": [
        {
          "output_type": "execute_result",
          "data": {
            "text/plain": [
              "match_id                 0\n",
              "inning                   0\n",
              "batting_team             0\n",
              "bowling_team             0\n",
              "over                     0\n",
              "ball                     0\n",
              "batsman                  0\n",
              "non_striker              0\n",
              "bowler                   0\n",
              "is_super_over            0\n",
              "wide_runs                0\n",
              "bye_runs                 0\n",
              "legbye_runs              0\n",
              "noball_runs              0\n",
              "penalty_runs             0\n",
              "batsman_runs             0\n",
              "extra_runs               0\n",
              "total_runs               0\n",
              "player_dismissed    170244\n",
              "dismissal_kind      170244\n",
              "fielder             172630\n",
              "dtype: int64"
            ]
          },
          "metadata": {},
          "execution_count": 18
        }
      ]
    },
    {
      "cell_type": "code",
      "source": [
        "matches.isnull().sum()"
      ],
      "metadata": {
        "colab": {
          "base_uri": "https://localhost:8080/"
        },
        "id": "_f6aAgseJEJi",
        "outputId": "dffd9de5-17e4-4ba2-cb20-10cc3618a562"
      },
      "execution_count": 19,
      "outputs": [
        {
          "output_type": "execute_result",
          "data": {
            "text/plain": [
              "id                   0\n",
              "season               0\n",
              "city                 7\n",
              "date                 0\n",
              "team1                0\n",
              "team2                0\n",
              "toss_winner          0\n",
              "toss_decision        0\n",
              "result               0\n",
              "dl_applied           0\n",
              "winner               4\n",
              "win_by_runs          0\n",
              "win_by_wickets       0\n",
              "player_of_match      4\n",
              "venue                0\n",
              "umpire1              2\n",
              "umpire2              2\n",
              "umpire3            637\n",
              "dtype: int64"
            ]
          },
          "metadata": {},
          "execution_count": 19
        }
      ]
    },
    {
      "cell_type": "code",
      "source": [
        "matches.drop(['umpire3'],axis=1,inplace=True) \n",
        "delivery.fillna(0,inplace=True)"
      ],
      "metadata": {
        "id": "J9G1lQnSIyta"
      },
      "execution_count": 20,
      "outputs": []
    },
    {
      "cell_type": "code",
      "source": [
        "delivery.isnull().sum()"
      ],
      "metadata": {
        "colab": {
          "base_uri": "https://localhost:8080/"
        },
        "id": "qFDBVyxIKGi-",
        "outputId": "b6c1c823-d21c-4033-9f47-512f0cc87dfb"
      },
      "execution_count": 21,
      "outputs": [
        {
          "output_type": "execute_result",
          "data": {
            "text/plain": [
              "match_id            0\n",
              "inning              0\n",
              "batting_team        0\n",
              "bowling_team        0\n",
              "over                0\n",
              "ball                0\n",
              "batsman             0\n",
              "non_striker         0\n",
              "bowler              0\n",
              "is_super_over       0\n",
              "wide_runs           0\n",
              "bye_runs            0\n",
              "legbye_runs         0\n",
              "noball_runs         0\n",
              "penalty_runs        0\n",
              "batsman_runs        0\n",
              "extra_runs          0\n",
              "total_runs          0\n",
              "player_dismissed    0\n",
              "dismissal_kind      0\n",
              "fielder             0\n",
              "dtype: int64"
            ]
          },
          "metadata": {},
          "execution_count": 21
        }
      ]
    },
    {
      "cell_type": "code",
      "source": [
        "matches.fillna(0,inplace=True)\n",
        "matches.isnull().sum()"
      ],
      "metadata": {
        "colab": {
          "base_uri": "https://localhost:8080/"
        },
        "id": "vBw3XSMsKN-K",
        "outputId": "9b931f56-134c-4f9f-e3a7-2e88686b05a9"
      },
      "execution_count": 22,
      "outputs": [
        {
          "output_type": "execute_result",
          "data": {
            "text/plain": [
              "id                 0\n",
              "season             0\n",
              "city               0\n",
              "date               0\n",
              "team1              0\n",
              "team2              0\n",
              "toss_winner        0\n",
              "toss_decision      0\n",
              "result             0\n",
              "dl_applied         0\n",
              "winner             0\n",
              "win_by_runs        0\n",
              "win_by_wickets     0\n",
              "player_of_match    0\n",
              "venue              0\n",
              "umpire1            0\n",
              "umpire2            0\n",
              "dtype: int64"
            ]
          },
          "metadata": {},
          "execution_count": 22
        }
      ]
    },
    {
      "cell_type": "markdown",
      "source": [
        "*Great! No more null values.*"
      ],
      "metadata": {
        "id": "T87MWuEtK3cs"
      }
    },
    {
      "cell_type": "code",
      "source": [
        "matches['team1'].unique()"
      ],
      "metadata": {
        "colab": {
          "base_uri": "https://localhost:8080/"
        },
        "id": "KCemqNYNJHn6",
        "outputId": "3c865399-42b4-4738-e352-4c92b5d37145"
      },
      "execution_count": 23,
      "outputs": [
        {
          "output_type": "execute_result",
          "data": {
            "text/plain": [
              "array(['Sunrisers Hyderabad', 'Mumbai Indians', 'Gujarat Lions',\n",
              "       'Rising Pune Supergiant', 'Royal Challengers Bangalore',\n",
              "       'Kolkata Knight Riders', 'Delhi Daredevils', 'Kings XI Punjab',\n",
              "       'Chennai Super Kings', 'Rajasthan Royals', 'Deccan Chargers',\n",
              "       'Kochi Tuskers Kerala', 'Pune Warriors', 'Rising Pune Supergiants',\n",
              "       'Delhi Capitals'], dtype=object)"
            ]
          },
          "metadata": {},
          "execution_count": 23
        }
      ]
    },
    {
      "cell_type": "markdown",
      "source": [
        "*Lets rename team names according to our convenience.*"
      ],
      "metadata": {
        "id": "JcFsqmUbJXaj"
      }
    },
    {
      "cell_type": "code",
      "source": [
        "delivery.replace(['Mumbai Indians','Kolkata Knight Riders','Royal Challengers Bangalore','Deccan Chargers','Chennai Super Kings',\n",
        "                 'Rajasthan Royals','Delhi Daredevils','Gujarat Lions','Kings XI Punjab',\n",
        "                 'Sunrisers Hyderabad','Rising Pune Supergiants','Kochi Tuskers Kerala','Pune Warriors','Rising Pune Supergiant']\n",
        "                ,['MI','KKR','RCB','DC','CSK','RR','DD','GL','KXIP','SRH','RPS','KTK','PW','RPS'],inplace=True)"
      ],
      "metadata": {
        "id": "1TZNIf6ELJVk"
      },
      "execution_count": 24,
      "outputs": []
    },
    {
      "cell_type": "code",
      "source": [
        "matches.replace(['Mumbai Indians','Kolkata Knight Riders','Royal Challengers Bangalore','Deccan Chargers','Chennai Super Kings',\n",
        "                 'Rajasthan Royals','Delhi Daredevils','Gujarat Lions','Kings XI Punjab',\n",
        "                 'Sunrisers Hyderabad','Rising Pune Supergiants','Kochi Tuskers Kerala','Pune Warriors','Rising Pune Supergiant']\n",
        "                ,['MI','KKR','RCB','DC','CSK','RR','DD','GL','KXIP','SRH','RPS','KTK','PW','RPS'],inplace=True)"
      ],
      "metadata": {
        "id": "lM-h_fOyJTud"
      },
      "execution_count": 25,
      "outputs": []
    },
    {
      "cell_type": "code",
      "source": [
        "print('Total number of venues where the sport was played at:',matches['city'].nunique())\n",
        "print('Total number of umpires ',matches['umpire1'].nunique())"
      ],
      "metadata": {
        "colab": {
          "base_uri": "https://localhost:8080/"
        },
        "id": "Z-Jk3tUBLUH0",
        "outputId": "b8488754-5778-43a3-e263-dc0c0c813c8c"
      },
      "execution_count": 27,
      "outputs": [
        {
          "output_type": "stream",
          "name": "stdout",
          "text": [
            "Total number of venues where the sport was played at: 33\n",
            "Total number of umpires  62\n"
          ]
        }
      ]
    },
    {
      "cell_type": "code",
      "source": [
        "print('Total Matches Played:',matches.shape[0])\n",
        "print('Venue Played At:',matches['city'].unique())     \n",
        "print(' Teams :',matches['team1'].unique())"
      ],
      "metadata": {
        "colab": {
          "base_uri": "https://localhost:8080/"
        },
        "id": "0-Bot6uOOKOQ",
        "outputId": "01743b1a-1552-447e-ea07-bc2f7a5d3ddf"
      },
      "execution_count": 46,
      "outputs": [
        {
          "output_type": "stream",
          "name": "stdout",
          "text": [
            "Total Matches Played: 756\n",
            "Venue Played At: ['Hyderabad' 'Pune' 'Rajkot' 'Indore' 'Bangalore' 'Mumbai' 'Kolkata'\n",
            " 'Delhi' 'Chandigarh' 'Kanpur' 'Jaipur' 'Chennai' 'Cape Town'\n",
            " 'Port Elizabeth' 'Durban' 'Centurion' 'East London' 'Johannesburg'\n",
            " 'Kimberley' 'Bloemfontein' 'Ahmedabad' 'Cuttack' 'Nagpur' 'Dharamsala'\n",
            " 'Kochi' 'Visakhapatnam' 'Raipur' 'Ranchi' 'Abu Dhabi' 'Sharjah' 0\n",
            " 'Mohali' 'Bengaluru']\n",
            " Teams : ['SRH' 'MI' 'GL' 'RPS' 'RCB' 'KKR' 'DD' 'KXIP' 'CSK' 'RR' 'DC' 'KTK' 'PW'\n",
            " 'Delhi Capitals']\n"
          ]
        }
      ]
    },
    {
      "cell_type": "code",
      "source": [
        "print((matches['player_of_match'].value_counts()).idxmax(),' : The player who has won maximum number of man of the match awards')\n",
        "print(((matches['winner']).value_counts()).idxmax(),'       : The player who has won maximum number of successful winning matches')"
      ],
      "metadata": {
        "colab": {
          "base_uri": "https://localhost:8080/"
        },
        "id": "luLrj_JjNdns",
        "outputId": "98a640ba-3339-497c-8c66-79787e0630d6"
      },
      "execution_count": 43,
      "outputs": [
        {
          "output_type": "stream",
          "name": "stdout",
          "text": [
            "CH Gayle  : The player who has won maximum number of man of the match awards\n",
            "MI        : The player who has won maximum number of successful winning matches\n"
          ]
        }
      ]
    },
    {
      "cell_type": "code",
      "source": [
        "df=matches.iloc[[matches['win_by_runs'].idxmax()]]\n",
        "df[['season','team1','team2','winner','win_by_runs']]"
      ],
      "metadata": {
        "colab": {
          "base_uri": "https://localhost:8080/",
          "height": 81
        },
        "id": "onvhTh-MNiHs",
        "outputId": "b7bdd13b-9cbd-48bc-f2b9-e4cd89820889"
      },
      "execution_count": 44,
      "outputs": [
        {
          "output_type": "execute_result",
          "data": {
            "text/plain": [
              "    season team1 team2 winner  win_by_runs\n",
              "43    2017    MI    DD     MI          146"
            ],
            "text/html": [
              "\n",
              "  <div id=\"df-9190b63a-3592-4d81-83f0-4fd2684117f9\">\n",
              "    <div class=\"colab-df-container\">\n",
              "      <div>\n",
              "<style scoped>\n",
              "    .dataframe tbody tr th:only-of-type {\n",
              "        vertical-align: middle;\n",
              "    }\n",
              "\n",
              "    .dataframe tbody tr th {\n",
              "        vertical-align: top;\n",
              "    }\n",
              "\n",
              "    .dataframe thead th {\n",
              "        text-align: right;\n",
              "    }\n",
              "</style>\n",
              "<table border=\"1\" class=\"dataframe\">\n",
              "  <thead>\n",
              "    <tr style=\"text-align: right;\">\n",
              "      <th></th>\n",
              "      <th>season</th>\n",
              "      <th>team1</th>\n",
              "      <th>team2</th>\n",
              "      <th>winner</th>\n",
              "      <th>win_by_runs</th>\n",
              "    </tr>\n",
              "  </thead>\n",
              "  <tbody>\n",
              "    <tr>\n",
              "      <th>43</th>\n",
              "      <td>2017</td>\n",
              "      <td>MI</td>\n",
              "      <td>DD</td>\n",
              "      <td>MI</td>\n",
              "      <td>146</td>\n",
              "    </tr>\n",
              "  </tbody>\n",
              "</table>\n",
              "</div>\n",
              "      <button class=\"colab-df-convert\" onclick=\"convertToInteractive('df-9190b63a-3592-4d81-83f0-4fd2684117f9')\"\n",
              "              title=\"Convert this dataframe to an interactive table.\"\n",
              "              style=\"display:none;\">\n",
              "        \n",
              "  <svg xmlns=\"http://www.w3.org/2000/svg\" height=\"24px\"viewBox=\"0 0 24 24\"\n",
              "       width=\"24px\">\n",
              "    <path d=\"M0 0h24v24H0V0z\" fill=\"none\"/>\n",
              "    <path d=\"M18.56 5.44l.94 2.06.94-2.06 2.06-.94-2.06-.94-.94-2.06-.94 2.06-2.06.94zm-11 1L8.5 8.5l.94-2.06 2.06-.94-2.06-.94L8.5 2.5l-.94 2.06-2.06.94zm10 10l.94 2.06.94-2.06 2.06-.94-2.06-.94-.94-2.06-.94 2.06-2.06.94z\"/><path d=\"M17.41 7.96l-1.37-1.37c-.4-.4-.92-.59-1.43-.59-.52 0-1.04.2-1.43.59L10.3 9.45l-7.72 7.72c-.78.78-.78 2.05 0 2.83L4 21.41c.39.39.9.59 1.41.59.51 0 1.02-.2 1.41-.59l7.78-7.78 2.81-2.81c.8-.78.8-2.07 0-2.86zM5.41 20L4 18.59l7.72-7.72 1.47 1.35L5.41 20z\"/>\n",
              "  </svg>\n",
              "      </button>\n",
              "      \n",
              "  <style>\n",
              "    .colab-df-container {\n",
              "      display:flex;\n",
              "      flex-wrap:wrap;\n",
              "      gap: 12px;\n",
              "    }\n",
              "\n",
              "    .colab-df-convert {\n",
              "      background-color: #E8F0FE;\n",
              "      border: none;\n",
              "      border-radius: 50%;\n",
              "      cursor: pointer;\n",
              "      display: none;\n",
              "      fill: #1967D2;\n",
              "      height: 32px;\n",
              "      padding: 0 0 0 0;\n",
              "      width: 32px;\n",
              "    }\n",
              "\n",
              "    .colab-df-convert:hover {\n",
              "      background-color: #E2EBFA;\n",
              "      box-shadow: 0px 1px 2px rgba(60, 64, 67, 0.3), 0px 1px 3px 1px rgba(60, 64, 67, 0.15);\n",
              "      fill: #174EA6;\n",
              "    }\n",
              "\n",
              "    [theme=dark] .colab-df-convert {\n",
              "      background-color: #3B4455;\n",
              "      fill: #D2E3FC;\n",
              "    }\n",
              "\n",
              "    [theme=dark] .colab-df-convert:hover {\n",
              "      background-color: #434B5C;\n",
              "      box-shadow: 0px 1px 3px 1px rgba(0, 0, 0, 0.15);\n",
              "      filter: drop-shadow(0px 1px 2px rgba(0, 0, 0, 0.3));\n",
              "      fill: #FFFFFF;\n",
              "    }\n",
              "  </style>\n",
              "\n",
              "      <script>\n",
              "        const buttonEl =\n",
              "          document.querySelector('#df-9190b63a-3592-4d81-83f0-4fd2684117f9 button.colab-df-convert');\n",
              "        buttonEl.style.display =\n",
              "          google.colab.kernel.accessAllowed ? 'block' : 'none';\n",
              "\n",
              "        async function convertToInteractive(key) {\n",
              "          const element = document.querySelector('#df-9190b63a-3592-4d81-83f0-4fd2684117f9');\n",
              "          const dataTable =\n",
              "            await google.colab.kernel.invokeFunction('convertToInteractive',\n",
              "                                                     [key], {});\n",
              "          if (!dataTable) return;\n",
              "\n",
              "          const docLinkHtml = 'Like what you see? Visit the ' +\n",
              "            '<a target=\"_blank\" href=https://colab.research.google.com/notebooks/data_table.ipynb>data table notebook</a>'\n",
              "            + ' to learn more about interactive tables.';\n",
              "          element.innerHTML = '';\n",
              "          dataTable['output_type'] = 'display_data';\n",
              "          await google.colab.output.renderOutput(dataTable, element);\n",
              "          const docLink = document.createElement('div');\n",
              "          docLink.innerHTML = docLinkHtml;\n",
              "          element.appendChild(docLink);\n",
              "        }\n",
              "      </script>\n",
              "    </div>\n",
              "  </div>\n",
              "  "
            ]
          },
          "metadata": {},
          "execution_count": 44
        }
      ]
    },
    {
      "cell_type": "markdown",
      "source": [
        "*Mumbai Indians(MI) defeated Delhi Daredevils(DD) with the highest run difference.*"
      ],
      "metadata": {
        "id": "AHfIl1nvOj0U"
      }
    },
    {
      "cell_type": "code",
      "source": [
        "df=matches.iloc[[matches['win_by_wickets'].idxmax()]]\n",
        "df[['season','team1','team2','winner','win_by_wickets']]"
      ],
      "metadata": {
        "colab": {
          "base_uri": "https://localhost:8080/",
          "height": 81
        },
        "id": "XyrFYWErOUjy",
        "outputId": "612aff76-4275-4807-8a23-b0065138f734"
      },
      "execution_count": 47,
      "outputs": [
        {
          "output_type": "execute_result",
          "data": {
            "text/plain": [
              "   season team1 team2 winner  win_by_wickets\n",
              "2    2017    GL   KKR    KKR              10"
            ],
            "text/html": [
              "\n",
              "  <div id=\"df-a7feac6b-2892-46e1-9932-1a683f326399\">\n",
              "    <div class=\"colab-df-container\">\n",
              "      <div>\n",
              "<style scoped>\n",
              "    .dataframe tbody tr th:only-of-type {\n",
              "        vertical-align: middle;\n",
              "    }\n",
              "\n",
              "    .dataframe tbody tr th {\n",
              "        vertical-align: top;\n",
              "    }\n",
              "\n",
              "    .dataframe thead th {\n",
              "        text-align: right;\n",
              "    }\n",
              "</style>\n",
              "<table border=\"1\" class=\"dataframe\">\n",
              "  <thead>\n",
              "    <tr style=\"text-align: right;\">\n",
              "      <th></th>\n",
              "      <th>season</th>\n",
              "      <th>team1</th>\n",
              "      <th>team2</th>\n",
              "      <th>winner</th>\n",
              "      <th>win_by_wickets</th>\n",
              "    </tr>\n",
              "  </thead>\n",
              "  <tbody>\n",
              "    <tr>\n",
              "      <th>2</th>\n",
              "      <td>2017</td>\n",
              "      <td>GL</td>\n",
              "      <td>KKR</td>\n",
              "      <td>KKR</td>\n",
              "      <td>10</td>\n",
              "    </tr>\n",
              "  </tbody>\n",
              "</table>\n",
              "</div>\n",
              "      <button class=\"colab-df-convert\" onclick=\"convertToInteractive('df-a7feac6b-2892-46e1-9932-1a683f326399')\"\n",
              "              title=\"Convert this dataframe to an interactive table.\"\n",
              "              style=\"display:none;\">\n",
              "        \n",
              "  <svg xmlns=\"http://www.w3.org/2000/svg\" height=\"24px\"viewBox=\"0 0 24 24\"\n",
              "       width=\"24px\">\n",
              "    <path d=\"M0 0h24v24H0V0z\" fill=\"none\"/>\n",
              "    <path d=\"M18.56 5.44l.94 2.06.94-2.06 2.06-.94-2.06-.94-.94-2.06-.94 2.06-2.06.94zm-11 1L8.5 8.5l.94-2.06 2.06-.94-2.06-.94L8.5 2.5l-.94 2.06-2.06.94zm10 10l.94 2.06.94-2.06 2.06-.94-2.06-.94-.94-2.06-.94 2.06-2.06.94z\"/><path d=\"M17.41 7.96l-1.37-1.37c-.4-.4-.92-.59-1.43-.59-.52 0-1.04.2-1.43.59L10.3 9.45l-7.72 7.72c-.78.78-.78 2.05 0 2.83L4 21.41c.39.39.9.59 1.41.59.51 0 1.02-.2 1.41-.59l7.78-7.78 2.81-2.81c.8-.78.8-2.07 0-2.86zM5.41 20L4 18.59l7.72-7.72 1.47 1.35L5.41 20z\"/>\n",
              "  </svg>\n",
              "      </button>\n",
              "      \n",
              "  <style>\n",
              "    .colab-df-container {\n",
              "      display:flex;\n",
              "      flex-wrap:wrap;\n",
              "      gap: 12px;\n",
              "    }\n",
              "\n",
              "    .colab-df-convert {\n",
              "      background-color: #E8F0FE;\n",
              "      border: none;\n",
              "      border-radius: 50%;\n",
              "      cursor: pointer;\n",
              "      display: none;\n",
              "      fill: #1967D2;\n",
              "      height: 32px;\n",
              "      padding: 0 0 0 0;\n",
              "      width: 32px;\n",
              "    }\n",
              "\n",
              "    .colab-df-convert:hover {\n",
              "      background-color: #E2EBFA;\n",
              "      box-shadow: 0px 1px 2px rgba(60, 64, 67, 0.3), 0px 1px 3px 1px rgba(60, 64, 67, 0.15);\n",
              "      fill: #174EA6;\n",
              "    }\n",
              "\n",
              "    [theme=dark] .colab-df-convert {\n",
              "      background-color: #3B4455;\n",
              "      fill: #D2E3FC;\n",
              "    }\n",
              "\n",
              "    [theme=dark] .colab-df-convert:hover {\n",
              "      background-color: #434B5C;\n",
              "      box-shadow: 0px 1px 3px 1px rgba(0, 0, 0, 0.15);\n",
              "      filter: drop-shadow(0px 1px 2px rgba(0, 0, 0, 0.3));\n",
              "      fill: #FFFFFF;\n",
              "    }\n",
              "  </style>\n",
              "\n",
              "      <script>\n",
              "        const buttonEl =\n",
              "          document.querySelector('#df-a7feac6b-2892-46e1-9932-1a683f326399 button.colab-df-convert');\n",
              "        buttonEl.style.display =\n",
              "          google.colab.kernel.accessAllowed ? 'block' : 'none';\n",
              "\n",
              "        async function convertToInteractive(key) {\n",
              "          const element = document.querySelector('#df-a7feac6b-2892-46e1-9932-1a683f326399');\n",
              "          const dataTable =\n",
              "            await google.colab.kernel.invokeFunction('convertToInteractive',\n",
              "                                                     [key], {});\n",
              "          if (!dataTable) return;\n",
              "\n",
              "          const docLinkHtml = 'Like what you see? Visit the ' +\n",
              "            '<a target=\"_blank\" href=https://colab.research.google.com/notebooks/data_table.ipynb>data table notebook</a>'\n",
              "            + ' to learn more about interactive tables.';\n",
              "          element.innerHTML = '';\n",
              "          dataTable['output_type'] = 'display_data';\n",
              "          await google.colab.output.renderOutput(dataTable, element);\n",
              "          const docLink = document.createElement('div');\n",
              "          docLink.innerHTML = docLinkHtml;\n",
              "          element.appendChild(docLink);\n",
              "        }\n",
              "      </script>\n",
              "    </div>\n",
              "  </div>\n",
              "  "
            ]
          },
          "metadata": {},
          "execution_count": 47
        }
      ]
    },
    {
      "cell_type": "markdown",
      "source": [
        "*Similarly,Kolkata Knight Riders(KKR) defeated Gujrat Lions(GL) with the highest wins by wickets.*"
      ],
      "metadata": {
        "id": "nGgn58O7OpQ3"
      }
    },
    {
      "cell_type": "markdown",
      "source": [
        "## **Year wise winners.**"
      ],
      "metadata": {
        "id": "yT7ksQQUVc_C"
      }
    },
    {
      "cell_type": "code",
      "source": [
        "print('Year wise winners :')\n",
        "for i in range(2008,2017):\n",
        "    df=((matches[matches['season']==i]).iloc[-1]) \n",
        "    print(df[[1,10]].values)"
      ],
      "metadata": {
        "colab": {
          "base_uri": "https://localhost:8080/"
        },
        "id": "VjRPC_ceVUpt",
        "outputId": "114ff586-cdcf-465b-97a4-de2aaad0cd06"
      },
      "execution_count": 92,
      "outputs": [
        {
          "output_type": "stream",
          "name": "stdout",
          "text": [
            "Year wise winners :\n",
            "[2008 'RR']\n",
            "[2009 'DC']\n",
            "[2010 'CSK']\n",
            "[2011 'CSK']\n",
            "[2012 'KKR']\n",
            "[2013 'MI']\n",
            "[2014 'KKR']\n",
            "[2015 'MI']\n",
            "[2016 'SRH']\n"
          ]
        }
      ]
    },
    {
      "cell_type": "markdown",
      "source": [
        "## **Decision taken up on tossing.**"
      ],
      "metadata": {
        "id": "hBnAyiKlO2Sd"
      }
    },
    {
      "cell_type": "code",
      "source": [
        "print('Toss Decisions in %\\n',((matches['toss_decision']).value_counts())/577*100)"
      ],
      "metadata": {
        "colab": {
          "base_uri": "https://localhost:8080/"
        },
        "id": "ltblKkxjOxgp",
        "outputId": "32b6fbbf-7cc7-4a2e-b00d-a576ee0cb525"
      },
      "execution_count": 50,
      "outputs": [
        {
          "output_type": "stream",
          "name": "stdout",
          "text": [
            "Toss Decisions in %\n",
            " field    80.242634\n",
            "bat      50.779896\n",
            "Name: toss_decision, dtype: float64\n"
          ]
        }
      ]
    },
    {
      "cell_type": "markdown",
      "source": [
        "## **Super over matches.**"
      ],
      "metadata": {
        "id": "ADO0JeWGV1Wt"
      }
    },
    {
      "cell_type": "code",
      "source": [
        "print('Total number of matches with Super overs:',delivery[delivery['is_super_over']==1].match_id.nunique())"
      ],
      "metadata": {
        "colab": {
          "base_uri": "https://localhost:8080/"
        },
        "id": "N4kv96pkVqNE",
        "outputId": "d08f1c07-5791-401f-91e9-4e8e0fda498c"
      },
      "execution_count": 94,
      "outputs": [
        {
          "output_type": "stream",
          "name": "stdout",
          "text": [
            "Total number of matches with Super overs: 7\n"
          ]
        }
      ]
    },
    {
      "cell_type": "markdown",
      "source": [
        "## **Maximum tosses won by.**"
      ],
      "metadata": {
        "id": "IOvC8f7nPMy5"
      }
    },
    {
      "cell_type": "code",
      "source": [
        "mlt.subplots(figsize=(8,4))\n",
        "ax=matches['toss_winner'].value_counts().plot.bar(width=0.9,color=sns.color_palette('inferno',20))\n",
        "for p in ax.patches:\n",
        "    ax.annotate(format(p.get_height()), (p.get_x()+0.15, p.get_height()+1))\n",
        "mlt.show()"
      ],
      "metadata": {
        "colab": {
          "base_uri": "https://localhost:8080/",
          "height": 503
        },
        "id": "m4EypVDCPEVb",
        "outputId": "d42484f0-627c-4b07-fb39-c564546f6b89"
      },
      "execution_count": 74,
      "outputs": [
        {
          "output_type": "display_data",
          "data": {
            "text/plain": [
              "<Figure size 800x400 with 1 Axes>"
            ],
            "image/png": "[encoded data removed]"
          },
          "metadata": {}
        }
      ]
    },
    {
      "cell_type": "markdown",
      "source": [
        "*Mumbai Indians seem to be very lucky having the higest win in tosses follwed by Kolkata Knight Riders, noting the point that number matches played being uneven by each team.*"
      ],
      "metadata": {
        "id": "whjrFQ_1Plsr"
      }
    },
    {
      "cell_type": "markdown",
      "source": [
        "## **Season wise toss decisions.**"
      ],
      "metadata": {
        "id": "xi-S10oaQda1"
      }
    },
    {
      "cell_type": "code",
      "source": [
        "mlt.subplots(figsize=(8,4))\n",
        "sns.countplot(x='season',hue='toss_decision',data=matches)\n",
        "mlt.show()"
      ],
      "metadata": {
        "colab": {
          "base_uri": "https://localhost:8080/",
          "height": 413
        },
        "id": "mpN077P0QaYt",
        "outputId": "8ab4dd71-c02b-4f81-83e1-4bbac281f159"
      },
      "execution_count": 60,
      "outputs": [
        {
          "output_type": "display_data",
          "data": {
            "text/plain": [
              "<Figure size 800x400 with 1 Axes>"
            ],
            "image/png": "[encoded data removed]"
          },
          "metadata": {}
        }
      ]
    },
    {
      "cell_type": "markdown",
      "source": [
        "## **Umpire Analysis.**"
      ],
      "metadata": {
        "id": "ryVtfVdjWEAQ"
      }
    },
    {
      "cell_type": "code",
      "source": [
        "mlt.subplots(figsize=(6,4))\n",
        "ump=pd.concat([matches['umpire1'],matches['umpire2']]) \n",
        "ax=ump.value_counts().head(10).plot.bar(width=0.8,color=sns.color_palette('cividis',10),grid=False)\n",
        "for p in ax.patches:\n",
        "    ax.annotate(format(p.get_height()), (p.get_x()+0.15, p.get_height()+0.25))\n",
        "mlt.show()"
      ],
      "metadata": {
        "colab": {
          "base_uri": "https://localhost:8080/",
          "height": 549
        },
        "id": "taymuEhCWCTs",
        "outputId": "c8cbaf78-4c72-44e5-c96d-2d37afcc64c8"
      },
      "execution_count": 99,
      "outputs": [
        {
          "output_type": "display_data",
          "data": {
            "text/plain": [
              "<Figure size 600x400 with 1 Axes>"
            ],
            "image/png": "[encoded data removed]"
          },
          "metadata": {}
        }
      ]
    },
    {
      "cell_type": "markdown",
      "source": [
        "## **Count of matches played season wise.**"
      ],
      "metadata": {
        "id": "0STiHeJ_ROXT"
      }
    },
    {
      "cell_type": "code",
      "source": [
        "mlt.subplots(figsize=(8,4))\n",
        "sns.countplot(x='season',data=matches,palette=sns.color_palette('autumn'))\n",
        "mlt.show()"
      ],
      "metadata": {
        "colab": {
          "base_uri": "https://localhost:8080/",
          "height": 413
        },
        "id": "Z-lXg-2pQ5-b",
        "outputId": "098bd40b-9d85-403a-d870-fd8749d56404"
      },
      "execution_count": 75,
      "outputs": [
        {
          "output_type": "display_data",
          "data": {
            "text/plain": [
              "<Figure size 800x400 with 1 Axes>"
            ],
            "image/png": "[encoded data removed]"
          },
          "metadata": {}
        }
      ]
    },
    {
      "cell_type": "markdown",
      "source": [
        "## **Sixes and Fours across the season.**"
      ],
      "metadata": {
        "id": "MuC7oaqBSKly"
      }
    },
    {
      "cell_type": "code",
      "source": [
        "Season_boundaries=batsmen.groupby(\"season\")[\"batsman_runs\"].agg(lambda x: (x==6).sum()).reset_index()\n",
        "a=batsmen.groupby(\"season\")[\"batsman_runs\"].agg(lambda x: (x==4).sum()).reset_index()\n",
        "Season_boundaries=Season_boundaries.merge(a,left_on='season',right_on='season',how='left')\n",
        "Season_boundaries=Season_boundaries.rename(columns={'batsman_runs_x':'6\"s','batsman_runs_y':'4\"s'})\n",
        "Season_boundaries.set_index('season')[['6\"s','4\"s']].plot(marker='o',grid=False)\n",
        "fig=mlt.gcf()\n",
        "fig.set_size_inches(6,4)\n",
        "mlt.show()"
      ],
      "metadata": {
        "colab": {
          "base_uri": "https://localhost:8080/",
          "height": 413
        },
        "id": "wa46mgyvSJl0",
        "outputId": "8a2b4f1a-43d1-48a7-b83f-3bfdb2c9ac72"
      },
      "execution_count": 91,
      "outputs": [
        {
          "output_type": "display_data",
          "data": {
            "text/plain": [
              "<Figure size 600x400 with 1 Axes>"
            ],
            "image/png": "[encoded data removed]"
          },
          "metadata": {}
        }
      ]
    },
    {
      "cell_type": "markdown",
      "source": [
        "## **Teams with score > 200!**"
      ],
      "metadata": {
        "id": "tyQKCwwXW4iw"
      }
    },
    {
      "cell_type": "code",
      "source": [
        "high_scores=delivery.groupby(['match_id', 'inning','batting_team','bowling_team'])['total_runs'].sum().reset_index() \n",
        "high_scores=high_scores[high_scores['total_runs']>=200]\n",
        "high_scores.nlargest(10,'total_runs')"
      ],
      "metadata": {
        "colab": {
          "base_uri": "https://localhost:8080/",
          "height": 363
        },
        "id": "vwB85bfaWxHH",
        "outputId": "240679ac-13dd-4c71-a8a0-814e6b98eb61"
      },
      "execution_count": 101,
      "outputs": [
        {
          "output_type": "execute_result",
          "data": {
            "text/plain": [
              "      match_id  inning batting_team bowling_team  total_runs\n",
              "829        411       1          RCB           PW         263\n",
              "1370      7937       1          KKR         KXIP         250\n",
              "1250       620       1          RCB           GL         248\n",
              "416        206       1          CSK           RR         246\n",
              "1498     11338       1          KKR           MI         241\n",
              "122         61       1          CSK         KXIP         240\n",
              "1134       562       1          RCB           MI         235\n",
              "1426     11147       1          SRH          RCB         233\n",
              "596        296       1         KXIP          RCB         232\n",
              "1500     11339       1          SRH         KXIP         232"
            ],
            "text/html": [
              "\n",
              "  <div id=\"df-164b1513-8fcf-4e78-bd05-b0c18451386b\">\n",
              "    <div class=\"colab-df-container\">\n",
              "      <div>\n",
              "<style scoped>\n",
              "    .dataframe tbody tr th:only-of-type {\n",
              "        vertical-align: middle;\n",
              "    }\n",
              "\n",
              "    .dataframe tbody tr th {\n",
              "        vertical-align: top;\n",
              "    }\n",
              "\n",
              "    .dataframe thead th {\n",
              "        text-align: right;\n",
              "    }\n",
              "</style>\n",
              "<table border=\"1\" class=\"dataframe\">\n",
              "  <thead>\n",
              "    <tr style=\"text-align: right;\">\n",
              "      <th></th>\n",
              "      <th>match_id</th>\n",
              "      <th>inning</th>\n",
              "      <th>batting_team</th>\n",
              "      <th>bowling_team</th>\n",
              "      <th>total_runs</th>\n",
              "    </tr>\n",
              "  </thead>\n",
              "  <tbody>\n",
              "    <tr>\n",
              "      <th>829</th>\n",
              "      <td>411</td>\n",
              "      <td>1</td>\n",
              "      <td>RCB</td>\n",
              "      <td>PW</td>\n",
              "      <td>263</td>\n",
              "    </tr>\n",
              "    <tr>\n",
              "      <th>1370</th>\n",
              "      <td>7937</td>\n",
              "      <td>1</td>\n",
              "      <td>KKR</td>\n",
              "      <td>KXIP</td>\n",
              "      <td>250</td>\n",
              "    </tr>\n",
              "    <tr>\n",
              "      <th>1250</th>\n",
              "      <td>620</td>\n",
              "      <td>1</td>\n",
              "      <td>RCB</td>\n",
              "      <td>GL</td>\n",
              "      <td>248</td>\n",
              "    </tr>\n",
              "    <tr>\n",
              "      <th>416</th>\n",
              "      <td>206</td>\n",
              "      <td>1</td>\n",
              "      <td>CSK</td>\n",
              "      <td>RR</td>\n",
              "      <td>246</td>\n",
              "    </tr>\n",
              "    <tr>\n",
              "      <th>1498</th>\n",
              "      <td>11338</td>\n",
              "      <td>1</td>\n",
              "      <td>KKR</td>\n",
              "      <td>MI</td>\n",
              "      <td>241</td>\n",
              "    </tr>\n",
              "    <tr>\n",
              "      <th>122</th>\n",
              "      <td>61</td>\n",
              "      <td>1</td>\n",
              "      <td>CSK</td>\n",
              "      <td>KXIP</td>\n",
              "      <td>240</td>\n",
              "    </tr>\n",
              "    <tr>\n",
              "      <th>1134</th>\n",
              "      <td>562</td>\n",
              "      <td>1</td>\n",
              "      <td>RCB</td>\n",
              "      <td>MI</td>\n",
              "      <td>235</td>\n",
              "    </tr>\n",
              "    <tr>\n",
              "      <th>1426</th>\n",
              "      <td>11147</td>\n",
              "      <td>1</td>\n",
              "      <td>SRH</td>\n",
              "      <td>RCB</td>\n",
              "      <td>233</td>\n",
              "    </tr>\n",
              "    <tr>\n",
              "      <th>596</th>\n",
              "      <td>296</td>\n",
              "      <td>1</td>\n",
              "      <td>KXIP</td>\n",
              "      <td>RCB</td>\n",
              "      <td>232</td>\n",
              "    </tr>\n",
              "    <tr>\n",
              "      <th>1500</th>\n",
              "      <td>11339</td>\n",
              "      <td>1</td>\n",
              "      <td>SRH</td>\n",
              "      <td>KXIP</td>\n",
              "      <td>232</td>\n",
              "    </tr>\n",
              "  </tbody>\n",
              "</table>\n",
              "</div>\n",
              "      <button class=\"colab-df-convert\" onclick=\"convertToInteractive('df-164b1513-8fcf-4e78-bd05-b0c18451386b')\"\n",
              "              title=\"Convert this dataframe to an interactive table.\"\n",
              "              style=\"display:none;\">\n",
              "        \n",
              "  <svg xmlns=\"http://www.w3.org/2000/svg\" height=\"24px\"viewBox=\"0 0 24 24\"\n",
              "       width=\"24px\">\n",
              "    <path d=\"M0 0h24v24H0V0z\" fill=\"none\"/>\n",
              "    <path d=\"M18.56 5.44l.94 2.06.94-2.06 2.06-.94-2.06-.94-.94-2.06-.94 2.06-2.06.94zm-11 1L8.5 8.5l.94-2.06 2.06-.94-2.06-.94L8.5 2.5l-.94 2.06-2.06.94zm10 10l.94 2.06.94-2.06 2.06-.94-2.06-.94-.94-2.06-.94 2.06-2.06.94z\"/><path d=\"M17.41 7.96l-1.37-1.37c-.4-.4-.92-.59-1.43-.59-.52 0-1.04.2-1.43.59L10.3 9.45l-7.72 7.72c-.78.78-.78 2.05 0 2.83L4 21.41c.39.39.9.59 1.41.59.51 0 1.02-.2 1.41-.59l7.78-7.78 2.81-2.81c.8-.78.8-2.07 0-2.86zM5.41 20L4 18.59l7.72-7.72 1.47 1.35L5.41 20z\"/>\n",
              "  </svg>\n",
              "      </button>\n",
              "      \n",
              "  <style>\n",
              "    .colab-df-container {\n",
              "      display:flex;\n",
              "      flex-wrap:wrap;\n",
              "      gap: 12px;\n",
              "    }\n",
              "\n",
              "    .colab-df-convert {\n",
              "      background-color: #E8F0FE;\n",
              "      border: none;\n",
              "      border-radius: 50%;\n",
              "      cursor: pointer;\n",
              "      display: none;\n",
              "      fill: #1967D2;\n",
              "      height: 32px;\n",
              "      padding: 0 0 0 0;\n",
              "      width: 32px;\n",
              "    }\n",
              "\n",
              "    .colab-df-convert:hover {\n",
              "      background-color: #E2EBFA;\n",
              "      box-shadow: 0px 1px 2px rgba(60, 64, 67, 0.3), 0px 1px 3px 1px rgba(60, 64, 67, 0.15);\n",
              "      fill: #174EA6;\n",
              "    }\n",
              "\n",
              "    [theme=dark] .colab-df-convert {\n",
              "      background-color: #3B4455;\n",
              "      fill: #D2E3FC;\n",
              "    }\n",
              "\n",
              "    [theme=dark] .colab-df-convert:hover {\n",
              "      background-color: #434B5C;\n",
              "      box-shadow: 0px 1px 3px 1px rgba(0, 0, 0, 0.15);\n",
              "      filter: drop-shadow(0px 1px 2px rgba(0, 0, 0, 0.3));\n",
              "      fill: #FFFFFF;\n",
              "    }\n",
              "  </style>\n",
              "\n",
              "      <script>\n",
              "        const buttonEl =\n",
              "          document.querySelector('#df-164b1513-8fcf-4e78-bd05-b0c18451386b button.colab-df-convert');\n",
              "        buttonEl.style.display =\n",
              "          google.colab.kernel.accessAllowed ? 'block' : 'none';\n",
              "\n",
              "        async function convertToInteractive(key) {\n",
              "          const element = document.querySelector('#df-164b1513-8fcf-4e78-bd05-b0c18451386b');\n",
              "          const dataTable =\n",
              "            await google.colab.kernel.invokeFunction('convertToInteractive',\n",
              "                                                     [key], {});\n",
              "          if (!dataTable) return;\n",
              "\n",
              "          const docLinkHtml = 'Like what you see? Visit the ' +\n",
              "            '<a target=\"_blank\" href=https://colab.research.google.com/notebooks/data_table.ipynb>data table notebook</a>'\n",
              "            + ' to learn more about interactive tables.';\n",
              "          element.innerHTML = '';\n",
              "          dataTable['output_type'] = 'display_data';\n",
              "          await google.colab.output.renderOutput(dataTable, element);\n",
              "          const docLink = document.createElement('div');\n",
              "          docLink.innerHTML = docLinkHtml;\n",
              "          element.appendChild(docLink);\n",
              "        }\n",
              "      </script>\n",
              "    </div>\n",
              "  </div>\n",
              "  "
            ]
          },
          "metadata": {},
          "execution_count": 101
        }
      ]
    },
    {
      "cell_type": "markdown",
      "source": [],
      "metadata": {
        "id": "H5DcpMENXPHB"
      }
    },
    {
      "cell_type": "markdown",
      "source": [
        "## **Highest man of the matches.**"
      ],
      "metadata": {
        "id": "6G7E0S6QUIaP"
      }
    },
    {
      "cell_type": "code",
      "source": [
        "mlt.subplots(figsize=(6,4))\n",
        "ax = matches['player_of_match'].value_counts().head(10).plot.bar(width=.8, color=sns.color_palette('gist_stern',10),grid=False)\n",
        "ax.set_xlabel('player_of_match') \n",
        "for p in ax.patches:\n",
        "    ax.annotate(format(p.get_height()), (p.get_x()+0.15, p.get_height()+0.25))\n",
        "mlt.show()"
      ],
      "metadata": {
        "colab": {
          "base_uri": "https://localhost:8080/",
          "height": 526
        },
        "id": "_wrLteD0UFKA",
        "outputId": "991f717a-d931-4b24-9cdb-bb4f9ce4aa1a"
      },
      "execution_count": 87,
      "outputs": [
        {
          "output_type": "display_data",
          "data": {
            "text/plain": [
              "<Figure size 600x400 with 1 Axes>"
            ],
            "image/png": "[encoded data removed]"
          },
          "metadata": {}
        }
      ]
    },
    {
      "cell_type": "code",
      "source": [
        "batsmen = matches[['id','season']].merge(delivery, left_on = 'id', right_on = 'match_id', how = 'left').drop('id', axis = 1)\n",
        "season=batsmen.groupby(['season'])['total_runs'].sum().reset_index()\n",
        "season.set_index('season').plot(marker='o',color = 'green',grid=False)\n",
        "mlt.gcf().set_size_inches(6,4)\n",
        "mlt.title('Total runs across the seasons')\n",
        "mlt.show()"
      ],
      "metadata": {
        "colab": {
          "base_uri": "https://localhost:8080/",
          "height": 443
        },
        "id": "W_ocKv9ZRXRl",
        "outputId": "0db0e593-5b76-4558-9759-9d13f64e47eb"
      },
      "execution_count": 88,
      "outputs": [
        {
          "output_type": "display_data",
          "data": {
            "text/plain": [
              "<Figure size 600x400 with 1 Axes>"
            ],
            "image/png": "[encoded data removed]"
          },
          "metadata": {}
        }
      ]
    },
    {
      "cell_type": "markdown",
      "source": [
        "*There was a decline in total runs from 2008 to 2009.*"
      ],
      "metadata": {
        "id": "iuBMuFvAR5Ih"
      }
    },
    {
      "cell_type": "markdown",
      "source": [
        "## **Top 10 Batsman.**"
      ],
      "metadata": {
        "id": "eIrwEVJQXf6c"
      }
    },
    {
      "cell_type": "code",
      "source": [
        "mlt.subplots(figsize=(7,4))\n",
        "max_runs=delivery.groupby(['batsman'])['batsman_runs'].sum()\n",
        "ax=max_runs.sort_values(ascending=False)[:10].plot.bar(width=0.8,color=sns.color_palette('bone',20))\n",
        "for p in ax.patches:\n",
        "    ax.annotate(format(p.get_height()), (p.get_x()+0.1, p.get_height()+50),fontsize=15)\n",
        "mlt.show()"
      ],
      "metadata": {
        "colab": {
          "base_uri": "https://localhost:8080/",
          "height": 526
        },
        "id": "zb0BT9E6VKGz",
        "outputId": "63b62297-e8b8-42a6-edd9-a7345e64fea7"
      },
      "execution_count": 107,
      "outputs": [
        {
          "output_type": "display_data",
          "data": {
            "text/plain": [
              "<Figure size 700x400 with 1 Axes>"
            ],
            "image/png": "[encoded data removed]"
          },
          "metadata": {}
        }
      ]
    },
    {
      "cell_type": "markdown",
      "source": [
        "## **Top scores based on runs!**"
      ],
      "metadata": {
        "id": "Hb6PR7AEYxcN"
      }
    },
    {
      "cell_type": "code",
      "source": [
        "top_scores = delivery.groupby([\"match_id\", \"batsman\",\"batting_team\"])[\"batsman_runs\"].sum().reset_index()\n",
        "top_scores.sort_values('batsman_runs', ascending=0).head(10)\n",
        "top_scores.nlargest(10,'batsman_runs')"
      ],
      "metadata": {
        "colab": {
          "base_uri": "https://localhost:8080/",
          "height": 363
        },
        "id": "V7Y3-Z1zYlxC",
        "outputId": "a777e67d-d7da-4b03-da86-c96155664e65"
      },
      "execution_count": 108,
      "outputs": [
        {
          "output_type": "execute_result",
          "data": {
            "text/plain": [
              "       match_id         batsman batting_team  batsman_runs\n",
              "6200        411        CH Gayle          RCB           175\n",
              "900          60     BB McCullum          KKR           158\n",
              "8426        562  AB de Villiers          RCB           133\n",
              "10149      7935         RR Pant           DD           130\n",
              "9257        620  AB de Villiers          RCB           129\n",
              "5585        372        CH Gayle          RCB           128\n",
              "3135        206         M Vijay          CSK           127\n",
              "529          36       DA Warner          SRH           126\n",
              "7752        516        V Sehwag         KXIP           122\n",
              "10417      7953       SR Watson          CSK           121"
            ],
            "text/html": [
              "\n",
              "  <div id=\"df-9fee0465-c458-4ee8-9ad1-5f7f13baff64\">\n",
              "    <div class=\"colab-df-container\">\n",
              "      <div>\n",
              "<style scoped>\n",
              "    .dataframe tbody tr th:only-of-type {\n",
              "        vertical-align: middle;\n",
              "    }\n",
              "\n",
              "    .dataframe tbody tr th {\n",
              "        vertical-align: top;\n",
              "    }\n",
              "\n",
              "    .dataframe thead th {\n",
              "        text-align: right;\n",
              "    }\n",
              "</style>\n",
              "<table border=\"1\" class=\"dataframe\">\n",
              "  <thead>\n",
              "    <tr style=\"text-align: right;\">\n",
              "      <th></th>\n",
              "      <th>match_id</th>\n",
              "      <th>batsman</th>\n",
              "      <th>batting_team</th>\n",
              "      <th>batsman_runs</th>\n",
              "    </tr>\n",
              "  </thead>\n",
              "  <tbody>\n",
              "    <tr>\n",
              "      <th>6200</th>\n",
              "      <td>411</td>\n",
              "      <td>CH Gayle</td>\n",
              "      <td>RCB</td>\n",
              "      <td>175</td>\n",
              "    </tr>\n",
              "    <tr>\n",
              "      <th>900</th>\n",
              "      <td>60</td>\n",
              "      <td>BB McCullum</td>\n",
              "      <td>KKR</td>\n",
              "      <td>158</td>\n",
              "    </tr>\n",
              "    <tr>\n",
              "      <th>8426</th>\n",
              "      <td>562</td>\n",
              "      <td>AB de Villiers</td>\n",
              "      <td>RCB</td>\n",
              "      <td>133</td>\n",
              "    </tr>\n",
              "    <tr>\n",
              "      <th>10149</th>\n",
              "      <td>7935</td>\n",
              "      <td>RR Pant</td>\n",
              "      <td>DD</td>\n",
              "      <td>130</td>\n",
              "    </tr>\n",
              "    <tr>\n",
              "      <th>9257</th>\n",
              "      <td>620</td>\n",
              "      <td>AB de Villiers</td>\n",
              "      <td>RCB</td>\n",
              "      <td>129</td>\n",
              "    </tr>\n",
              "    <tr>\n",
              "      <th>5585</th>\n",
              "      <td>372</td>\n",
              "      <td>CH Gayle</td>\n",
              "      <td>RCB</td>\n",
              "      <td>128</td>\n",
              "    </tr>\n",
              "    <tr>\n",
              "      <th>3135</th>\n",
              "      <td>206</td>\n",
              "      <td>M Vijay</td>\n",
              "      <td>CSK</td>\n",
              "      <td>127</td>\n",
              "    </tr>\n",
              "    <tr>\n",
              "      <th>529</th>\n",
              "      <td>36</td>\n",
              "      <td>DA Warner</td>\n",
              "      <td>SRH</td>\n",
              "      <td>126</td>\n",
              "    </tr>\n",
              "    <tr>\n",
              "      <th>7752</th>\n",
              "      <td>516</td>\n",
              "      <td>V Sehwag</td>\n",
              "      <td>KXIP</td>\n",
              "      <td>122</td>\n",
              "    </tr>\n",
              "    <tr>\n",
              "      <th>10417</th>\n",
              "      <td>7953</td>\n",
              "      <td>SR Watson</td>\n",
              "      <td>CSK</td>\n",
              "      <td>121</td>\n",
              "    </tr>\n",
              "  </tbody>\n",
              "</table>\n",
              "</div>\n",
              "      <button class=\"colab-df-convert\" onclick=\"convertToInteractive('df-9fee0465-c458-4ee8-9ad1-5f7f13baff64')\"\n",
              "              title=\"Convert this dataframe to an interactive table.\"\n",
              "              style=\"display:none;\">\n",
              "        \n",
              "  <svg xmlns=\"http://www.w3.org/2000/svg\" height=\"24px\"viewBox=\"0 0 24 24\"\n",
              "       width=\"24px\">\n",
              "    <path d=\"M0 0h24v24H0V0z\" fill=\"none\"/>\n",
              "    <path d=\"M18.56 5.44l.94 2.06.94-2.06 2.06-.94-2.06-.94-.94-2.06-.94 2.06-2.06.94zm-11 1L8.5 8.5l.94-2.06 2.06-.94-2.06-.94L8.5 2.5l-.94 2.06-2.06.94zm10 10l.94 2.06.94-2.06 2.06-.94-2.06-.94-.94-2.06-.94 2.06-2.06.94z\"/><path d=\"M17.41 7.96l-1.37-1.37c-.4-.4-.92-.59-1.43-.59-.52 0-1.04.2-1.43.59L10.3 9.45l-7.72 7.72c-.78.78-.78 2.05 0 2.83L4 21.41c.39.39.9.59 1.41.59.51 0 1.02-.2 1.41-.59l7.78-7.78 2.81-2.81c.8-.78.8-2.07 0-2.86zM5.41 20L4 18.59l7.72-7.72 1.47 1.35L5.41 20z\"/>\n",
              "  </svg>\n",
              "      </button>\n",
              "      \n",
              "  <style>\n",
              "    .colab-df-container {\n",
              "      display:flex;\n",
              "      flex-wrap:wrap;\n",
              "      gap: 12px;\n",
              "    }\n",
              "\n",
              "    .colab-df-convert {\n",
              "      background-color: #E8F0FE;\n",
              "      border: none;\n",
              "      border-radius: 50%;\n",
              "      cursor: pointer;\n",
              "      display: none;\n",
              "      fill: #1967D2;\n",
              "      height: 32px;\n",
              "      padding: 0 0 0 0;\n",
              "      width: 32px;\n",
              "    }\n",
              "\n",
              "    .colab-df-convert:hover {\n",
              "      background-color: #E2EBFA;\n",
              "      box-shadow: 0px 1px 2px rgba(60, 64, 67, 0.3), 0px 1px 3px 1px rgba(60, 64, 67, 0.15);\n",
              "      fill: #174EA6;\n",
              "    }\n",
              "\n",
              "    [theme=dark] .colab-df-convert {\n",
              "      background-color: #3B4455;\n",
              "      fill: #D2E3FC;\n",
              "    }\n",
              "\n",
              "    [theme=dark] .colab-df-convert:hover {\n",
              "      background-color: #434B5C;\n",
              "      box-shadow: 0px 1px 3px 1px rgba(0, 0, 0, 0.15);\n",
              "      filter: drop-shadow(0px 1px 2px rgba(0, 0, 0, 0.3));\n",
              "      fill: #FFFFFF;\n",
              "    }\n",
              "  </style>\n",
              "\n",
              "      <script>\n",
              "        const buttonEl =\n",
              "          document.querySelector('#df-9fee0465-c458-4ee8-9ad1-5f7f13baff64 button.colab-df-convert');\n",
              "        buttonEl.style.display =\n",
              "          google.colab.kernel.accessAllowed ? 'block' : 'none';\n",
              "\n",
              "        async function convertToInteractive(key) {\n",
              "          const element = document.querySelector('#df-9fee0465-c458-4ee8-9ad1-5f7f13baff64');\n",
              "          const dataTable =\n",
              "            await google.colab.kernel.invokeFunction('convertToInteractive',\n",
              "                                                     [key], {});\n",
              "          if (!dataTable) return;\n",
              "\n",
              "          const docLinkHtml = 'Like what you see? Visit the ' +\n",
              "            '<a target=\"_blank\" href=https://colab.research.google.com/notebooks/data_table.ipynb>data table notebook</a>'\n",
              "            + ' to learn more about interactive tables.';\n",
              "          element.innerHTML = '';\n",
              "          dataTable['output_type'] = 'display_data';\n",
              "          await google.colab.output.renderOutput(dataTable, element);\n",
              "          const docLink = document.createElement('div');\n",
              "          docLink.innerHTML = docLinkHtml;\n",
              "          element.appendChild(docLink);\n",
              "        }\n",
              "      </script>\n",
              "    </div>\n",
              "  </div>\n",
              "  "
            ]
          },
          "metadata": {},
          "execution_count": 108
        }
      ]
    },
    {
      "cell_type": "markdown",
      "source": [
        "# **Maximum overs.**"
      ],
      "metadata": {
        "id": "AyVpIeorZK4g"
      }
    },
    {
      "cell_type": "code",
      "source": [
        "eco=delivery.groupby(['bowler']).sum()\n",
        "eco['total balls']=delivery['bowler'].value_counts()\n",
        "eco['overs']=(eco['total balls']//6)\n",
        "eco[eco['overs']>200].sort_values(by='overs',ascending=0)['overs'].head(5).reset_index()"
      ],
      "metadata": {
        "colab": {
          "base_uri": "https://localhost:8080/",
          "height": 299
        },
        "id": "KJvomWHHY-Fl",
        "outputId": "9e4890b6-d993-486a-9040-541e20db955b"
      },
      "execution_count": 109,
      "outputs": [
        {
          "output_type": "stream",
          "name": "stderr",
          "text": [
            "<ipython-input-109-e0e44bef4196>:1: FutureWarning:\n",
            "\n",
            "The default value of numeric_only in DataFrameGroupBy.sum is deprecated. In a future version, numeric_only will default to False. Either specify numeric_only or select only columns which should be valid for the function.\n",
            "\n"
          ]
        },
        {
          "output_type": "execute_result",
          "data": {
            "text/plain": [
              "            bowler  overs\n",
              "0  Harbhajan Singh    575\n",
              "1         A Mishra    528\n",
              "2        PP Chawla    526\n",
              "3         R Ashwin    502\n",
              "4       SL Malinga    495"
            ],
            "text/html": [
              "\n",
              "  <div id=\"df-f21511be-18ac-45c8-96b7-9097ee25dc87\">\n",
              "    <div class=\"colab-df-container\">\n",
              "      <div>\n",
              "<style scoped>\n",
              "    .dataframe tbody tr th:only-of-type {\n",
              "        vertical-align: middle;\n",
              "    }\n",
              "\n",
              "    .dataframe tbody tr th {\n",
              "        vertical-align: top;\n",
              "    }\n",
              "\n",
              "    .dataframe thead th {\n",
              "        text-align: right;\n",
              "    }\n",
              "</style>\n",
              "<table border=\"1\" class=\"dataframe\">\n",
              "  <thead>\n",
              "    <tr style=\"text-align: right;\">\n",
              "      <th></th>\n",
              "      <th>bowler</th>\n",
              "      <th>overs</th>\n",
              "    </tr>\n",
              "  </thead>\n",
              "  <tbody>\n",
              "    <tr>\n",
              "      <th>0</th>\n",
              "      <td>Harbhajan Singh</td>\n",
              "      <td>575</td>\n",
              "    </tr>\n",
              "    <tr>\n",
              "      <th>1</th>\n",
              "      <td>A Mishra</td>\n",
              "      <td>528</td>\n",
              "    </tr>\n",
              "    <tr>\n",
              "      <th>2</th>\n",
              "      <td>PP Chawla</td>\n",
              "      <td>526</td>\n",
              "    </tr>\n",
              "    <tr>\n",
              "      <th>3</th>\n",
              "      <td>R Ashwin</td>\n",
              "      <td>502</td>\n",
              "    </tr>\n",
              "    <tr>\n",
              "      <th>4</th>\n",
              "      <td>SL Malinga</td>\n",
              "      <td>495</td>\n",
              "    </tr>\n",
              "  </tbody>\n",
              "</table>\n",
              "</div>\n",
              "      <button class=\"colab-df-convert\" onclick=\"convertToInteractive('df-f21511be-18ac-45c8-96b7-9097ee25dc87')\"\n",
              "              title=\"Convert this dataframe to an interactive table.\"\n",
              "              style=\"display:none;\">\n",
              "        \n",
              "  <svg xmlns=\"http://www.w3.org/2000/svg\" height=\"24px\"viewBox=\"0 0 24 24\"\n",
              "       width=\"24px\">\n",
              "    <path d=\"M0 0h24v24H0V0z\" fill=\"none\"/>\n",
              "    <path d=\"M18.56 5.44l.94 2.06.94-2.06 2.06-.94-2.06-.94-.94-2.06-.94 2.06-2.06.94zm-11 1L8.5 8.5l.94-2.06 2.06-.94-2.06-.94L8.5 2.5l-.94 2.06-2.06.94zm10 10l.94 2.06.94-2.06 2.06-.94-2.06-.94-.94-2.06-.94 2.06-2.06.94z\"/><path d=\"M17.41 7.96l-1.37-1.37c-.4-.4-.92-.59-1.43-.59-.52 0-1.04.2-1.43.59L10.3 9.45l-7.72 7.72c-.78.78-.78 2.05 0 2.83L4 21.41c.39.39.9.59 1.41.59.51 0 1.02-.2 1.41-.59l7.78-7.78 2.81-2.81c.8-.78.8-2.07 0-2.86zM5.41 20L4 18.59l7.72-7.72 1.47 1.35L5.41 20z\"/>\n",
              "  </svg>\n",
              "      </button>\n",
              "      \n",
              "  <style>\n",
              "    .colab-df-container {\n",
              "      display:flex;\n",
              "      flex-wrap:wrap;\n",
              "      gap: 12px;\n",
              "    }\n",
              "\n",
              "    .colab-df-convert {\n",
              "      background-color: #E8F0FE;\n",
              "      border: none;\n",
              "      border-radius: 50%;\n",
              "      cursor: pointer;\n",
              "      display: none;\n",
              "      fill: #1967D2;\n",
              "      height: 32px;\n",
              "      padding: 0 0 0 0;\n",
              "      width: 32px;\n",
              "    }\n",
              "\n",
              "    .colab-df-convert:hover {\n",
              "      background-color: #E2EBFA;\n",
              "      box-shadow: 0px 1px 2px rgba(60, 64, 67, 0.3), 0px 1px 3px 1px rgba(60, 64, 67, 0.15);\n",
              "      fill: #174EA6;\n",
              "    }\n",
              "\n",
              "    [theme=dark] .colab-df-convert {\n",
              "      background-color: #3B4455;\n",
              "      fill: #D2E3FC;\n",
              "    }\n",
              "\n",
              "    [theme=dark] .colab-df-convert:hover {\n",
              "      background-color: #434B5C;\n",
              "      box-shadow: 0px 1px 3px 1px rgba(0, 0, 0, 0.15);\n",
              "      filter: drop-shadow(0px 1px 2px rgba(0, 0, 0, 0.3));\n",
              "      fill: #FFFFFF;\n",
              "    }\n",
              "  </style>\n",
              "\n",
              "      <script>\n",
              "        const buttonEl =\n",
              "          document.querySelector('#df-f21511be-18ac-45c8-96b7-9097ee25dc87 button.colab-df-convert');\n",
              "        buttonEl.style.display =\n",
              "          google.colab.kernel.accessAllowed ? 'block' : 'none';\n",
              "\n",
              "        async function convertToInteractive(key) {\n",
              "          const element = document.querySelector('#df-f21511be-18ac-45c8-96b7-9097ee25dc87');\n",
              "          const dataTable =\n",
              "            await google.colab.kernel.invokeFunction('convertToInteractive',\n",
              "                                                     [key], {});\n",
              "          if (!dataTable) return;\n",
              "\n",
              "          const docLinkHtml = 'Like what you see? Visit the ' +\n",
              "            '<a target=\"_blank\" href=https://colab.research.google.com/notebooks/data_table.ipynb>data table notebook</a>'\n",
              "            + ' to learn more about interactive tables.';\n",
              "          element.innerHTML = '';\n",
              "          dataTable['output_type'] = 'display_data';\n",
              "          await google.colab.output.renderOutput(dataTable, element);\n",
              "          const docLink = document.createElement('div');\n",
              "          docLink.innerHTML = docLinkHtml;\n",
              "          element.appendChild(docLink);\n",
              "        }\n",
              "      </script>\n",
              "    </div>\n",
              "  </div>\n",
              "  "
            ]
          },
          "metadata": {},
          "execution_count": 109
        }
      ]
    },
    {
      "cell_type": "markdown",
      "source": [
        "# **Summary of Insights :**\n",
        "* The total number of matches that were conducted are **756.**\n",
        "    \n",
        "    * ***CH Gayle*** is the player who has won maximum number of man of the match awards.\n",
        "    * ***MI*** is the team who has won maximum number of successful winning matches.\n",
        "* **Mumbai Indians** seem to be very lucky having the higest win in tosses follwed by **Kolkata Knight Riders**, noting the point that number matches played being uneven by each team.\n",
        "* The total number of matches with Super overs are **7.**\n",
        "* Year wise **winners** :\n",
        "\n",
        "    * 2008 - 'RR'\n",
        "\n",
        "    * 2009 - 'DC'\n",
        "\n",
        "    * 2010 - 'CSK'\n",
        "\n",
        "    * 2011 - 'CSK'\n",
        "\n",
        "    * 2012 - 'KKR'\n",
        "\n",
        "    * 2013 - 'MI'\n",
        "\n",
        "    * 2014 - 'KKR'\n",
        "\n",
        "    * 2015 - 'MI'\n",
        "\n",
        "    * 2016 - 'SRH'\n",
        "\n",
        "* Toss Decision in % :\n",
        "\n",
        "    * Fielding -  **80.242634**\n",
        "\n",
        "    * Batting -   **50.779896**\n",
        "\n"
      ],
      "metadata": {
        "id": "3OpRSjZJaoNZ"
      }
    }
  ]
}